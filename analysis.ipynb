{
 "cells": [
  {
   "cell_type": "markdown",
   "id": "7267d3bc",
   "metadata": {},
   "source": [
    "## Analysis of Goodreads Data up to 2025\n",
    "\n",
    "https://www.mavenanalytics.io/data-playground/goodreads-book-reviews\n"
   ]
  },
  {
   "cell_type": "markdown",
   "id": "674cdfcd",
   "metadata": {},
   "source": [
    "### Import data"
   ]
  },
  {
   "cell_type": "code",
   "execution_count": 2,
   "id": "26f0e019",
   "metadata": {},
   "outputs": [],
   "source": [
    "# import libraries\n",
    "import pandas as pd\n",
    "import datetime\n",
    "import matplotlib.pyplot as plt\n",
    "import seaborn as sns\n"
   ]
  },
  {
   "cell_type": "code",
   "execution_count": 3,
   "id": "0d6e64cf",
   "metadata": {},
   "outputs": [],
   "source": [
    "# define columns to be imported for reviews csv\n",
    "my_cols = ['review_id',\t'user_id',\t'work_id',\t'date_added',\t'rating',\t'n_votes',\t'n_comments']\n"
   ]
  },
  {
   "cell_type": "code",
   "execution_count": 4,
   "id": "dabc5008",
   "metadata": {},
   "outputs": [],
   "source": [
    "reviews = pd.read_csv(r'C:\\Users\\conif\\Documents\\Projects\\Maven\\Goodreads-Project\\Goodreads+Book+Reviews\\Goodreads_Reviews.csv',\n",
    "                 usecols=my_cols, parse_dates=[\t'date_added'], low_memory=False)"
   ]
  },
  {
   "cell_type": "code",
   "execution_count": 5,
   "id": "e5b2f802",
   "metadata": {},
   "outputs": [
    {
     "data": {
      "application/vnd.microsoft.datawrangler.viewer.v0+json": {
       "columns": [
        {
         "name": "index",
         "rawType": "int64",
         "type": "integer"
        },
        {
         "name": "review_id",
         "rawType": "object",
         "type": "string"
        },
        {
         "name": "user_id",
         "rawType": "object",
         "type": "string"
        },
        {
         "name": "work_id",
         "rawType": "int64",
         "type": "integer"
        },
        {
         "name": "date_added",
         "rawType": "datetime64[ns]",
         "type": "datetime"
        },
        {
         "name": "rating",
         "rawType": "float64",
         "type": "float"
        },
        {
         "name": "n_votes",
         "rawType": "int64",
         "type": "integer"
        },
        {
         "name": "n_comments",
         "rawType": "int64",
         "type": "integer"
        }
       ],
       "ref": "a8292db0-e3c8-41c0-a167-17664dbacdd3",
       "rows": [
        [
         "0",
         "fa7a00c01296e3b2b2e857d79c51ea77",
         "3693bb4f1062b659a354848cf11ca313",
         "6128277",
         "2013-12-21 00:00:00",
         "5.0",
         "0",
         "0"
        ],
        [
         "1",
         "de0f7c8d15e247443e51969becf2878e",
         "3693bb4f1062b659a354848cf11ca313",
         "3270810",
         "2013-12-21 00:00:00",
         "5.0",
         "0",
         "0"
        ],
        [
         "2",
         "e79b49504ef58b2defcdc8b79e2ec3fb",
         "3693bb4f1062b659a354848cf11ca313",
         "4768235",
         "2013-12-19 00:00:00",
         "5.0",
         "0",
         "0"
        ],
        [
         "3",
         "495c1210a9dbd819cbf7717dfb8b217f",
         "3693bb4f1062b659a354848cf11ca313",
         "6264661",
         "2013-12-16 00:00:00",
         "5.0",
         "0",
         "0"
        ],
        [
         "4",
         "54fcd8963c9dd56485d2a4ad152699c2",
         "3693bb4f1062b659a354848cf11ca313",
         "3429537",
         "2013-12-16 00:00:00",
         "5.0",
         "0",
         "0"
        ]
       ],
       "shape": {
        "columns": 7,
        "rows": 5
       }
      },
      "text/html": [
       "<div>\n",
       "<style scoped>\n",
       "    .dataframe tbody tr th:only-of-type {\n",
       "        vertical-align: middle;\n",
       "    }\n",
       "\n",
       "    .dataframe tbody tr th {\n",
       "        vertical-align: top;\n",
       "    }\n",
       "\n",
       "    .dataframe thead th {\n",
       "        text-align: right;\n",
       "    }\n",
       "</style>\n",
       "<table border=\"1\" class=\"dataframe\">\n",
       "  <thead>\n",
       "    <tr style=\"text-align: right;\">\n",
       "      <th></th>\n",
       "      <th>review_id</th>\n",
       "      <th>user_id</th>\n",
       "      <th>work_id</th>\n",
       "      <th>date_added</th>\n",
       "      <th>rating</th>\n",
       "      <th>n_votes</th>\n",
       "      <th>n_comments</th>\n",
       "    </tr>\n",
       "  </thead>\n",
       "  <tbody>\n",
       "    <tr>\n",
       "      <th>0</th>\n",
       "      <td>fa7a00c01296e3b2b2e857d79c51ea77</td>\n",
       "      <td>3693bb4f1062b659a354848cf11ca313</td>\n",
       "      <td>6128277</td>\n",
       "      <td>2013-12-21</td>\n",
       "      <td>5.0</td>\n",
       "      <td>0</td>\n",
       "      <td>0</td>\n",
       "    </tr>\n",
       "    <tr>\n",
       "      <th>1</th>\n",
       "      <td>de0f7c8d15e247443e51969becf2878e</td>\n",
       "      <td>3693bb4f1062b659a354848cf11ca313</td>\n",
       "      <td>3270810</td>\n",
       "      <td>2013-12-21</td>\n",
       "      <td>5.0</td>\n",
       "      <td>0</td>\n",
       "      <td>0</td>\n",
       "    </tr>\n",
       "    <tr>\n",
       "      <th>2</th>\n",
       "      <td>e79b49504ef58b2defcdc8b79e2ec3fb</td>\n",
       "      <td>3693bb4f1062b659a354848cf11ca313</td>\n",
       "      <td>4768235</td>\n",
       "      <td>2013-12-19</td>\n",
       "      <td>5.0</td>\n",
       "      <td>0</td>\n",
       "      <td>0</td>\n",
       "    </tr>\n",
       "    <tr>\n",
       "      <th>3</th>\n",
       "      <td>495c1210a9dbd819cbf7717dfb8b217f</td>\n",
       "      <td>3693bb4f1062b659a354848cf11ca313</td>\n",
       "      <td>6264661</td>\n",
       "      <td>2013-12-16</td>\n",
       "      <td>5.0</td>\n",
       "      <td>0</td>\n",
       "      <td>0</td>\n",
       "    </tr>\n",
       "    <tr>\n",
       "      <th>4</th>\n",
       "      <td>54fcd8963c9dd56485d2a4ad152699c2</td>\n",
       "      <td>3693bb4f1062b659a354848cf11ca313</td>\n",
       "      <td>3429537</td>\n",
       "      <td>2013-12-16</td>\n",
       "      <td>5.0</td>\n",
       "      <td>0</td>\n",
       "      <td>0</td>\n",
       "    </tr>\n",
       "  </tbody>\n",
       "</table>\n",
       "</div>"
      ],
      "text/plain": [
       "                          review_id                           user_id  \\\n",
       "0  fa7a00c01296e3b2b2e857d79c51ea77  3693bb4f1062b659a354848cf11ca313   \n",
       "1  de0f7c8d15e247443e51969becf2878e  3693bb4f1062b659a354848cf11ca313   \n",
       "2  e79b49504ef58b2defcdc8b79e2ec3fb  3693bb4f1062b659a354848cf11ca313   \n",
       "3  495c1210a9dbd819cbf7717dfb8b217f  3693bb4f1062b659a354848cf11ca313   \n",
       "4  54fcd8963c9dd56485d2a4ad152699c2  3693bb4f1062b659a354848cf11ca313   \n",
       "\n",
       "   work_id date_added  rating  n_votes  n_comments  \n",
       "0  6128277 2013-12-21     5.0        0           0  \n",
       "1  3270810 2013-12-21     5.0        0           0  \n",
       "2  4768235 2013-12-19     5.0        0           0  \n",
       "3  6264661 2013-12-16     5.0        0           0  \n",
       "4  3429537 2013-12-16     5.0        0           0  "
      ]
     },
     "execution_count": 5,
     "metadata": {},
     "output_type": "execute_result"
    }
   ],
   "source": [
    "reviews.head()"
   ]
  },
  {
   "cell_type": "code",
   "execution_count": 6,
   "id": "8c33d288",
   "metadata": {},
   "outputs": [
    {
     "name": "stdout",
     "output_type": "stream",
     "text": [
      "<class 'pandas.core.frame.DataFrame'>\n",
      "RangeIndex: 1143887 entries, 0 to 1143886\n",
      "Data columns (total 7 columns):\n",
      " #   Column      Non-Null Count    Dtype         \n",
      "---  ------      --------------    -----         \n",
      " 0   review_id   1143887 non-null  object        \n",
      " 1   user_id     1143887 non-null  object        \n",
      " 2   work_id     1143887 non-null  int64         \n",
      " 3   date_added  1143887 non-null  datetime64[ns]\n",
      " 4   rating      1106569 non-null  float64       \n",
      " 5   n_votes     1143887 non-null  int64         \n",
      " 6   n_comments  1143887 non-null  int64         \n",
      "dtypes: datetime64[ns](1), float64(1), int64(3), object(2)\n",
      "memory usage: 61.1+ MB\n"
     ]
    }
   ],
   "source": [
    "reviews.info()"
   ]
  },
  {
   "cell_type": "code",
   "execution_count": 7,
   "id": "a50706ff",
   "metadata": {},
   "outputs": [],
   "source": [
    "# import second csv file called works, which is the books database\n",
    "works = pd.read_csv(r'C:\\Users\\conif\\Documents\\Projects\\Maven\\Goodreads-Project\\Goodreads+Book+Reviews\\goodreads_works.csv')"
   ]
  },
  {
   "cell_type": "code",
   "execution_count": 8,
   "id": "1b9fbe6d",
   "metadata": {},
   "outputs": [
    {
     "data": {
      "application/vnd.microsoft.datawrangler.viewer.v0+json": {
       "columns": [
        {
         "name": "index",
         "rawType": "int64",
         "type": "integer"
        },
        {
         "name": "work_id",
         "rawType": "int64",
         "type": "integer"
        },
        {
         "name": "isbn",
         "rawType": "object",
         "type": "unknown"
        },
        {
         "name": "isbn13",
         "rawType": "float64",
         "type": "float"
        },
        {
         "name": "original_title",
         "rawType": "object",
         "type": "string"
        },
        {
         "name": "author",
         "rawType": "object",
         "type": "string"
        },
        {
         "name": "original_publication_year",
         "rawType": "float64",
         "type": "float"
        },
        {
         "name": "num_pages",
         "rawType": "float64",
         "type": "float"
        },
        {
         "name": "description",
         "rawType": "object",
         "type": "unknown"
        },
        {
         "name": "genres",
         "rawType": "object",
         "type": "string"
        },
        {
         "name": "image_url",
         "rawType": "object",
         "type": "string"
        },
        {
         "name": "reviews_count",
         "rawType": "int64",
         "type": "integer"
        },
        {
         "name": "text_reviews_count",
         "rawType": "int64",
         "type": "integer"
        },
        {
         "name": "5_star_ratings",
         "rawType": "int64",
         "type": "integer"
        },
        {
         "name": "4_star_ratings",
         "rawType": "int64",
         "type": "integer"
        },
        {
         "name": "3_star_ratings",
         "rawType": "int64",
         "type": "integer"
        },
        {
         "name": "2_star_ratings",
         "rawType": "int64",
         "type": "integer"
        },
        {
         "name": "1_star_ratings",
         "rawType": "int64",
         "type": "integer"
        },
        {
         "name": "ratings_count",
         "rawType": "int64",
         "type": "integer"
        },
        {
         "name": "avg_rating",
         "rawType": "float64",
         "type": "float"
        },
        {
         "name": "similar_books",
         "rawType": "object",
         "type": "unknown"
        }
       ],
       "ref": "b3a8dda7-9327-441f-878f-ae793afcfc7a",
       "rows": [
        [
         "0",
         "2919130",
         "1416534601",
         "9781416534600.0",
         "Nocturnes",
         "John Connolly",
         "2004.0",
         null,
         null,
         "fiction, fantasy, paranormal, mystery, thriller, crime, young-adult",
         "https://s.gr-assets.com/assets/nophoto/book/111x148-bcc042a9c91a29c1d680899eff700a03.png",
         "8820",
         "338",
         "1118",
         "1601",
         "1029",
         "190",
         "58",
         "3996",
         "3.9",
         null
        ],
        [
         "1",
         "52087333",
         null,
         null,
         "Draw Play",
         "Tia Lewis",
         "2016.0",
         null,
         "Jake:\nI can't believe my coach assigned me a tutor. I'm all that on the field and between the sheets -- who cares about my stupid grades?\nBut Claire doesn't treat me like I'm dumb. When we're not busy fighting, she actually encourages me. And with those sexy curves of hers, I know just how to thank her.\nClaire:\nI hate football players, but I need the money. Jake is just as cocky and arrogant as the worst of them ... but his touch sets me on fire.\nI have to believe he's different, that he won't use me and break my heart. Because I can't stop wanting him. I just hope I survive the ride.",
         "romance, fiction",
         "https://s.gr-assets.com/assets/nophoto/book/111x148-bcc042a9c91a29c1d680899eff700a03.png",
         "2482",
         "204",
         "204",
         "353",
         "274",
         "77",
         "29",
         "937",
         "3.7",
         null
        ],
        [
         "2",
         "1649583",
         "1416505520",
         "9781416505525.0",
         "Citizen of the Galaxy",
         "Robert A. Heinlein",
         "1957.0",
         null,
         "In a distant galaxy, the atrocity of slavery was alive and well, and young Thorby was just another orphaned boy sold at auction. But his new owner, Baslim, is not the disabled beggar he appears to be: adopting Thorby as his son, he fights relentlessly as an abolitionist spy. When the authorities close in on Baslim, Thorby must ride with the Free Traders a league of merchant princes throughout the many worlds of a hostile galaxy, finding the courage to live by his wits and fight his way from society's lowest rung. But Thorby's destiny will be forever changed when he discovers the truth about his own identity...",
         "fiction, young-adult, fantasy, paranormal, children",
         "https://s.gr-assets.com/assets/nophoto/book/111x148-bcc042a9c91a29c1d680899eff700a03.png",
         "16506",
         "447",
         "3539",
         "4351",
         "2863",
         "444",
         "53",
         "11250",
         "4.0",
         null
        ],
        [
         "3",
         "688299",
         "0060541830",
         "9780060541835.0",
         "Congo",
         "Michael Crichton",
         "1980.0",
         null,
         "Deep in the African rain forest, near the legendary ruins of the Lost City of Zinj, an expedition of eight American geologists is mysteriously and brutally killed in a matter of minutes.\nTen thousand miles away, Karen Ross, the Congo Project Supervisor, watches a gruesome video transmission of the aftermath: a camp destroyed, tents crushed and torn, equipment scattered in the mud alongside dead bodies -- all motionless except for one moving image -- a grainy, dark, man-shaped blur.\nIn San Francisco, primatologist Peter Elliot works with Amy, a gorilla with an extraordinary vocabulary of 620 \"signs,\" the most ever learned by a primate, and she likes to fingerpaint. But recently, her behavior has been erratic and her drawings match, with stunning accuracy, the brittle pages of a Portuguese print dating back to 1642 . . . a drawing of an ancient lost city. A new expedition -- along with Amy -- is sent into the Congo where they enter a secret world, and the only way out may be through a horrifying death . . .",
         "fiction, mystery, thriller, crime, fantasy, paranormal",
         "https://s.gr-assets.com/assets/nophoto/book/111x148-bcc042a9c91a29c1d680899eff700a03.png",
         "170916",
         "1633",
         "25081",
         "45775",
         "48505",
         "14001",
         "2926",
         "136288",
         "3.6",
         null
        ],
        [
         "4",
         "3464264",
         "0451528824",
         "9780451528827.0",
         "Anne of Green Gables",
         "L.M. Montgomery",
         "1908.0",
         null,
         "Everyone's favorite redhead, the spunky Anne Shirley, begins her adventures at Green Gables, a farm outside Avonlea, Prince Edward Island. When the freckled girl realizes that the elderly Cuthberts wanted to adopt a boy instead, she begins to try to win them and, consequently, the reader, over.",
         "fiction, young-adult, children, history, historical fiction, biography, romance",
         "https://s.gr-assets.com/assets/nophoto/book/111x148-bcc042a9c91a29c1d680899eff700a03.png",
         "743392",
         "14586",
         "272952",
         "161856",
         "81578",
         "19933",
         "9099",
         "545418",
         "4.2",
         null
        ]
       ],
       "shape": {
        "columns": 20,
        "rows": 5
       }
      },
      "text/html": [
       "<div>\n",
       "<style scoped>\n",
       "    .dataframe tbody tr th:only-of-type {\n",
       "        vertical-align: middle;\n",
       "    }\n",
       "\n",
       "    .dataframe tbody tr th {\n",
       "        vertical-align: top;\n",
       "    }\n",
       "\n",
       "    .dataframe thead th {\n",
       "        text-align: right;\n",
       "    }\n",
       "</style>\n",
       "<table border=\"1\" class=\"dataframe\">\n",
       "  <thead>\n",
       "    <tr style=\"text-align: right;\">\n",
       "      <th></th>\n",
       "      <th>work_id</th>\n",
       "      <th>isbn</th>\n",
       "      <th>isbn13</th>\n",
       "      <th>original_title</th>\n",
       "      <th>author</th>\n",
       "      <th>original_publication_year</th>\n",
       "      <th>num_pages</th>\n",
       "      <th>description</th>\n",
       "      <th>genres</th>\n",
       "      <th>image_url</th>\n",
       "      <th>reviews_count</th>\n",
       "      <th>text_reviews_count</th>\n",
       "      <th>5_star_ratings</th>\n",
       "      <th>4_star_ratings</th>\n",
       "      <th>3_star_ratings</th>\n",
       "      <th>2_star_ratings</th>\n",
       "      <th>1_star_ratings</th>\n",
       "      <th>ratings_count</th>\n",
       "      <th>avg_rating</th>\n",
       "      <th>similar_books</th>\n",
       "    </tr>\n",
       "  </thead>\n",
       "  <tbody>\n",
       "    <tr>\n",
       "      <th>0</th>\n",
       "      <td>2919130</td>\n",
       "      <td>1416534601</td>\n",
       "      <td>9.781417e+12</td>\n",
       "      <td>Nocturnes</td>\n",
       "      <td>John Connolly</td>\n",
       "      <td>2004.0</td>\n",
       "      <td>NaN</td>\n",
       "      <td>NaN</td>\n",
       "      <td>fiction, fantasy, paranormal, mystery, thrille...</td>\n",
       "      <td>https://s.gr-assets.com/assets/nophoto/book/11...</td>\n",
       "      <td>8820</td>\n",
       "      <td>338</td>\n",
       "      <td>1118</td>\n",
       "      <td>1601</td>\n",
       "      <td>1029</td>\n",
       "      <td>190</td>\n",
       "      <td>58</td>\n",
       "      <td>3996</td>\n",
       "      <td>3.9</td>\n",
       "      <td>NaN</td>\n",
       "    </tr>\n",
       "    <tr>\n",
       "      <th>1</th>\n",
       "      <td>52087333</td>\n",
       "      <td>NaN</td>\n",
       "      <td>NaN</td>\n",
       "      <td>Draw Play</td>\n",
       "      <td>Tia Lewis</td>\n",
       "      <td>2016.0</td>\n",
       "      <td>NaN</td>\n",
       "      <td>Jake:\\nI can't believe my coach assigned me a ...</td>\n",
       "      <td>romance, fiction</td>\n",
       "      <td>https://s.gr-assets.com/assets/nophoto/book/11...</td>\n",
       "      <td>2482</td>\n",
       "      <td>204</td>\n",
       "      <td>204</td>\n",
       "      <td>353</td>\n",
       "      <td>274</td>\n",
       "      <td>77</td>\n",
       "      <td>29</td>\n",
       "      <td>937</td>\n",
       "      <td>3.7</td>\n",
       "      <td>NaN</td>\n",
       "    </tr>\n",
       "    <tr>\n",
       "      <th>2</th>\n",
       "      <td>1649583</td>\n",
       "      <td>1416505520</td>\n",
       "      <td>9.781417e+12</td>\n",
       "      <td>Citizen of the Galaxy</td>\n",
       "      <td>Robert A. Heinlein</td>\n",
       "      <td>1957.0</td>\n",
       "      <td>NaN</td>\n",
       "      <td>In a distant galaxy, the atrocity of slavery w...</td>\n",
       "      <td>fiction, young-adult, fantasy, paranormal, chi...</td>\n",
       "      <td>https://s.gr-assets.com/assets/nophoto/book/11...</td>\n",
       "      <td>16506</td>\n",
       "      <td>447</td>\n",
       "      <td>3539</td>\n",
       "      <td>4351</td>\n",
       "      <td>2863</td>\n",
       "      <td>444</td>\n",
       "      <td>53</td>\n",
       "      <td>11250</td>\n",
       "      <td>4.0</td>\n",
       "      <td>NaN</td>\n",
       "    </tr>\n",
       "    <tr>\n",
       "      <th>3</th>\n",
       "      <td>688299</td>\n",
       "      <td>0060541830</td>\n",
       "      <td>9.780061e+12</td>\n",
       "      <td>Congo</td>\n",
       "      <td>Michael Crichton</td>\n",
       "      <td>1980.0</td>\n",
       "      <td>NaN</td>\n",
       "      <td>Deep in the African rain forest, near the lege...</td>\n",
       "      <td>fiction, mystery, thriller, crime, fantasy, pa...</td>\n",
       "      <td>https://s.gr-assets.com/assets/nophoto/book/11...</td>\n",
       "      <td>170916</td>\n",
       "      <td>1633</td>\n",
       "      <td>25081</td>\n",
       "      <td>45775</td>\n",
       "      <td>48505</td>\n",
       "      <td>14001</td>\n",
       "      <td>2926</td>\n",
       "      <td>136288</td>\n",
       "      <td>3.6</td>\n",
       "      <td>NaN</td>\n",
       "    </tr>\n",
       "    <tr>\n",
       "      <th>4</th>\n",
       "      <td>3464264</td>\n",
       "      <td>0451528824</td>\n",
       "      <td>9.780452e+12</td>\n",
       "      <td>Anne of Green Gables</td>\n",
       "      <td>L.M. Montgomery</td>\n",
       "      <td>1908.0</td>\n",
       "      <td>NaN</td>\n",
       "      <td>Everyone's favorite redhead, the spunky Anne S...</td>\n",
       "      <td>fiction, young-adult, children, history, histo...</td>\n",
       "      <td>https://s.gr-assets.com/assets/nophoto/book/11...</td>\n",
       "      <td>743392</td>\n",
       "      <td>14586</td>\n",
       "      <td>272952</td>\n",
       "      <td>161856</td>\n",
       "      <td>81578</td>\n",
       "      <td>19933</td>\n",
       "      <td>9099</td>\n",
       "      <td>545418</td>\n",
       "      <td>4.2</td>\n",
       "      <td>NaN</td>\n",
       "    </tr>\n",
       "  </tbody>\n",
       "</table>\n",
       "</div>"
      ],
      "text/plain": [
       "    work_id        isbn        isbn13         original_title  \\\n",
       "0   2919130  1416534601  9.781417e+12              Nocturnes   \n",
       "1  52087333         NaN           NaN              Draw Play   \n",
       "2   1649583  1416505520  9.781417e+12  Citizen of the Galaxy   \n",
       "3    688299  0060541830  9.780061e+12                  Congo   \n",
       "4   3464264  0451528824  9.780452e+12   Anne of Green Gables   \n",
       "\n",
       "               author  original_publication_year  num_pages  \\\n",
       "0       John Connolly                     2004.0        NaN   \n",
       "1           Tia Lewis                     2016.0        NaN   \n",
       "2  Robert A. Heinlein                     1957.0        NaN   \n",
       "3    Michael Crichton                     1980.0        NaN   \n",
       "4     L.M. Montgomery                     1908.0        NaN   \n",
       "\n",
       "                                         description  \\\n",
       "0                                                NaN   \n",
       "1  Jake:\\nI can't believe my coach assigned me a ...   \n",
       "2  In a distant galaxy, the atrocity of slavery w...   \n",
       "3  Deep in the African rain forest, near the lege...   \n",
       "4  Everyone's favorite redhead, the spunky Anne S...   \n",
       "\n",
       "                                              genres  \\\n",
       "0  fiction, fantasy, paranormal, mystery, thrille...   \n",
       "1                                   romance, fiction   \n",
       "2  fiction, young-adult, fantasy, paranormal, chi...   \n",
       "3  fiction, mystery, thriller, crime, fantasy, pa...   \n",
       "4  fiction, young-adult, children, history, histo...   \n",
       "\n",
       "                                           image_url  reviews_count  \\\n",
       "0  https://s.gr-assets.com/assets/nophoto/book/11...           8820   \n",
       "1  https://s.gr-assets.com/assets/nophoto/book/11...           2482   \n",
       "2  https://s.gr-assets.com/assets/nophoto/book/11...          16506   \n",
       "3  https://s.gr-assets.com/assets/nophoto/book/11...         170916   \n",
       "4  https://s.gr-assets.com/assets/nophoto/book/11...         743392   \n",
       "\n",
       "   text_reviews_count  5_star_ratings  4_star_ratings  3_star_ratings  \\\n",
       "0                 338            1118            1601            1029   \n",
       "1                 204             204             353             274   \n",
       "2                 447            3539            4351            2863   \n",
       "3                1633           25081           45775           48505   \n",
       "4               14586          272952          161856           81578   \n",
       "\n",
       "   2_star_ratings  1_star_ratings  ratings_count  avg_rating similar_books  \n",
       "0             190              58           3996         3.9           NaN  \n",
       "1              77              29            937         3.7           NaN  \n",
       "2             444              53          11250         4.0           NaN  \n",
       "3           14001            2926         136288         3.6           NaN  \n",
       "4           19933            9099         545418         4.2           NaN  "
      ]
     },
     "execution_count": 8,
     "metadata": {},
     "output_type": "execute_result"
    }
   ],
   "source": [
    "works.head()"
   ]
  },
  {
   "cell_type": "code",
   "execution_count": 9,
   "id": "f3443922",
   "metadata": {},
   "outputs": [
    {
     "name": "stdout",
     "output_type": "stream",
     "text": [
      "<class 'pandas.core.frame.DataFrame'>\n",
      "RangeIndex: 13525 entries, 0 to 13524\n",
      "Data columns (total 20 columns):\n",
      " #   Column                     Non-Null Count  Dtype  \n",
      "---  ------                     --------------  -----  \n",
      " 0   work_id                    13525 non-null  int64  \n",
      " 1   isbn                       11474 non-null  object \n",
      " 2   isbn13                     11864 non-null  float64\n",
      " 3   original_title             13525 non-null  object \n",
      " 4   author                     13525 non-null  object \n",
      " 5   original_publication_year  13507 non-null  float64\n",
      " 6   num_pages                  12795 non-null  float64\n",
      " 7   description                13356 non-null  object \n",
      " 8   genres                     13525 non-null  object \n",
      " 9   image_url                  13525 non-null  object \n",
      " 10  reviews_count              13525 non-null  int64  \n",
      " 11  text_reviews_count         13525 non-null  int64  \n",
      " 12  5_star_ratings             13525 non-null  int64  \n",
      " 13  4_star_ratings             13525 non-null  int64  \n",
      " 14  3_star_ratings             13525 non-null  int64  \n",
      " 15  2_star_ratings             13525 non-null  int64  \n",
      " 16  1_star_ratings             13525 non-null  int64  \n",
      " 17  ratings_count              13525 non-null  int64  \n",
      " 18  avg_rating                 13525 non-null  float64\n",
      " 19  similar_books              11010 non-null  object \n",
      "dtypes: float64(4), int64(9), object(7)\n",
      "memory usage: 2.1+ MB\n"
     ]
    }
   ],
   "source": [
    "works.info()"
   ]
  },
  {
   "cell_type": "code",
   "execution_count": 10,
   "id": "1432bad3",
   "metadata": {},
   "outputs": [],
   "source": [
    "# drop unneccessary columns from works dataframe\n",
    "works = works.drop(columns=['image_url', 'similar_books', 'description', 'isbn13' ])"
   ]
  },
  {
   "cell_type": "code",
   "execution_count": 11,
   "id": "1396b5f2",
   "metadata": {},
   "outputs": [
    {
     "data": {
      "application/vnd.microsoft.datawrangler.viewer.v0+json": {
       "columns": [
        {
         "name": "index",
         "rawType": "int64",
         "type": "integer"
        },
        {
         "name": "work_id",
         "rawType": "int64",
         "type": "integer"
        },
        {
         "name": "isbn",
         "rawType": "object",
         "type": "unknown"
        },
        {
         "name": "original_title",
         "rawType": "object",
         "type": "string"
        },
        {
         "name": "author",
         "rawType": "object",
         "type": "string"
        },
        {
         "name": "original_publication_year",
         "rawType": "float64",
         "type": "float"
        },
        {
         "name": "num_pages",
         "rawType": "float64",
         "type": "float"
        },
        {
         "name": "genres",
         "rawType": "object",
         "type": "string"
        },
        {
         "name": "reviews_count",
         "rawType": "int64",
         "type": "integer"
        },
        {
         "name": "text_reviews_count",
         "rawType": "int64",
         "type": "integer"
        },
        {
         "name": "5_star_ratings",
         "rawType": "int64",
         "type": "integer"
        },
        {
         "name": "4_star_ratings",
         "rawType": "int64",
         "type": "integer"
        },
        {
         "name": "3_star_ratings",
         "rawType": "int64",
         "type": "integer"
        },
        {
         "name": "2_star_ratings",
         "rawType": "int64",
         "type": "integer"
        },
        {
         "name": "1_star_ratings",
         "rawType": "int64",
         "type": "integer"
        },
        {
         "name": "ratings_count",
         "rawType": "int64",
         "type": "integer"
        },
        {
         "name": "avg_rating",
         "rawType": "float64",
         "type": "float"
        }
       ],
       "ref": "9c61ad3c-7b58-419f-8851-e70d3c0094f1",
       "rows": [
        [
         "0",
         "2919130",
         "1416534601",
         "Nocturnes",
         "John Connolly",
         "2004.0",
         null,
         "fiction, fantasy, paranormal, mystery, thriller, crime, young-adult",
         "8820",
         "338",
         "1118",
         "1601",
         "1029",
         "190",
         "58",
         "3996",
         "3.9"
        ],
        [
         "1",
         "52087333",
         null,
         "Draw Play",
         "Tia Lewis",
         "2016.0",
         null,
         "romance, fiction",
         "2482",
         "204",
         "204",
         "353",
         "274",
         "77",
         "29",
         "937",
         "3.7"
        ],
        [
         "2",
         "1649583",
         "1416505520",
         "Citizen of the Galaxy",
         "Robert A. Heinlein",
         "1957.0",
         null,
         "fiction, young-adult, fantasy, paranormal, children",
         "16506",
         "447",
         "3539",
         "4351",
         "2863",
         "444",
         "53",
         "11250",
         "4.0"
        ],
        [
         "3",
         "688299",
         "0060541830",
         "Congo",
         "Michael Crichton",
         "1980.0",
         null,
         "fiction, mystery, thriller, crime, fantasy, paranormal",
         "170916",
         "1633",
         "25081",
         "45775",
         "48505",
         "14001",
         "2926",
         "136288",
         "3.6"
        ],
        [
         "4",
         "3464264",
         "0451528824",
         "Anne of Green Gables",
         "L.M. Montgomery",
         "1908.0",
         null,
         "fiction, young-adult, children, history, historical fiction, biography, romance",
         "743392",
         "14586",
         "272952",
         "161856",
         "81578",
         "19933",
         "9099",
         "545418",
         "4.2"
        ]
       ],
       "shape": {
        "columns": 16,
        "rows": 5
       }
      },
      "text/html": [
       "<div>\n",
       "<style scoped>\n",
       "    .dataframe tbody tr th:only-of-type {\n",
       "        vertical-align: middle;\n",
       "    }\n",
       "\n",
       "    .dataframe tbody tr th {\n",
       "        vertical-align: top;\n",
       "    }\n",
       "\n",
       "    .dataframe thead th {\n",
       "        text-align: right;\n",
       "    }\n",
       "</style>\n",
       "<table border=\"1\" class=\"dataframe\">\n",
       "  <thead>\n",
       "    <tr style=\"text-align: right;\">\n",
       "      <th></th>\n",
       "      <th>work_id</th>\n",
       "      <th>isbn</th>\n",
       "      <th>original_title</th>\n",
       "      <th>author</th>\n",
       "      <th>original_publication_year</th>\n",
       "      <th>num_pages</th>\n",
       "      <th>genres</th>\n",
       "      <th>reviews_count</th>\n",
       "      <th>text_reviews_count</th>\n",
       "      <th>5_star_ratings</th>\n",
       "      <th>4_star_ratings</th>\n",
       "      <th>3_star_ratings</th>\n",
       "      <th>2_star_ratings</th>\n",
       "      <th>1_star_ratings</th>\n",
       "      <th>ratings_count</th>\n",
       "      <th>avg_rating</th>\n",
       "    </tr>\n",
       "  </thead>\n",
       "  <tbody>\n",
       "    <tr>\n",
       "      <th>0</th>\n",
       "      <td>2919130</td>\n",
       "      <td>1416534601</td>\n",
       "      <td>Nocturnes</td>\n",
       "      <td>John Connolly</td>\n",
       "      <td>2004.0</td>\n",
       "      <td>NaN</td>\n",
       "      <td>fiction, fantasy, paranormal, mystery, thrille...</td>\n",
       "      <td>8820</td>\n",
       "      <td>338</td>\n",
       "      <td>1118</td>\n",
       "      <td>1601</td>\n",
       "      <td>1029</td>\n",
       "      <td>190</td>\n",
       "      <td>58</td>\n",
       "      <td>3996</td>\n",
       "      <td>3.9</td>\n",
       "    </tr>\n",
       "    <tr>\n",
       "      <th>1</th>\n",
       "      <td>52087333</td>\n",
       "      <td>NaN</td>\n",
       "      <td>Draw Play</td>\n",
       "      <td>Tia Lewis</td>\n",
       "      <td>2016.0</td>\n",
       "      <td>NaN</td>\n",
       "      <td>romance, fiction</td>\n",
       "      <td>2482</td>\n",
       "      <td>204</td>\n",
       "      <td>204</td>\n",
       "      <td>353</td>\n",
       "      <td>274</td>\n",
       "      <td>77</td>\n",
       "      <td>29</td>\n",
       "      <td>937</td>\n",
       "      <td>3.7</td>\n",
       "    </tr>\n",
       "    <tr>\n",
       "      <th>2</th>\n",
       "      <td>1649583</td>\n",
       "      <td>1416505520</td>\n",
       "      <td>Citizen of the Galaxy</td>\n",
       "      <td>Robert A. Heinlein</td>\n",
       "      <td>1957.0</td>\n",
       "      <td>NaN</td>\n",
       "      <td>fiction, young-adult, fantasy, paranormal, chi...</td>\n",
       "      <td>16506</td>\n",
       "      <td>447</td>\n",
       "      <td>3539</td>\n",
       "      <td>4351</td>\n",
       "      <td>2863</td>\n",
       "      <td>444</td>\n",
       "      <td>53</td>\n",
       "      <td>11250</td>\n",
       "      <td>4.0</td>\n",
       "    </tr>\n",
       "    <tr>\n",
       "      <th>3</th>\n",
       "      <td>688299</td>\n",
       "      <td>0060541830</td>\n",
       "      <td>Congo</td>\n",
       "      <td>Michael Crichton</td>\n",
       "      <td>1980.0</td>\n",
       "      <td>NaN</td>\n",
       "      <td>fiction, mystery, thriller, crime, fantasy, pa...</td>\n",
       "      <td>170916</td>\n",
       "      <td>1633</td>\n",
       "      <td>25081</td>\n",
       "      <td>45775</td>\n",
       "      <td>48505</td>\n",
       "      <td>14001</td>\n",
       "      <td>2926</td>\n",
       "      <td>136288</td>\n",
       "      <td>3.6</td>\n",
       "    </tr>\n",
       "    <tr>\n",
       "      <th>4</th>\n",
       "      <td>3464264</td>\n",
       "      <td>0451528824</td>\n",
       "      <td>Anne of Green Gables</td>\n",
       "      <td>L.M. Montgomery</td>\n",
       "      <td>1908.0</td>\n",
       "      <td>NaN</td>\n",
       "      <td>fiction, young-adult, children, history, histo...</td>\n",
       "      <td>743392</td>\n",
       "      <td>14586</td>\n",
       "      <td>272952</td>\n",
       "      <td>161856</td>\n",
       "      <td>81578</td>\n",
       "      <td>19933</td>\n",
       "      <td>9099</td>\n",
       "      <td>545418</td>\n",
       "      <td>4.2</td>\n",
       "    </tr>\n",
       "  </tbody>\n",
       "</table>\n",
       "</div>"
      ],
      "text/plain": [
       "    work_id        isbn         original_title              author  \\\n",
       "0   2919130  1416534601              Nocturnes       John Connolly   \n",
       "1  52087333         NaN              Draw Play           Tia Lewis   \n",
       "2   1649583  1416505520  Citizen of the Galaxy  Robert A. Heinlein   \n",
       "3    688299  0060541830                  Congo    Michael Crichton   \n",
       "4   3464264  0451528824   Anne of Green Gables     L.M. Montgomery   \n",
       "\n",
       "   original_publication_year  num_pages  \\\n",
       "0                     2004.0        NaN   \n",
       "1                     2016.0        NaN   \n",
       "2                     1957.0        NaN   \n",
       "3                     1980.0        NaN   \n",
       "4                     1908.0        NaN   \n",
       "\n",
       "                                              genres  reviews_count  \\\n",
       "0  fiction, fantasy, paranormal, mystery, thrille...           8820   \n",
       "1                                   romance, fiction           2482   \n",
       "2  fiction, young-adult, fantasy, paranormal, chi...          16506   \n",
       "3  fiction, mystery, thriller, crime, fantasy, pa...         170916   \n",
       "4  fiction, young-adult, children, history, histo...         743392   \n",
       "\n",
       "   text_reviews_count  5_star_ratings  4_star_ratings  3_star_ratings  \\\n",
       "0                 338            1118            1601            1029   \n",
       "1                 204             204             353             274   \n",
       "2                 447            3539            4351            2863   \n",
       "3                1633           25081           45775           48505   \n",
       "4               14586          272952          161856           81578   \n",
       "\n",
       "   2_star_ratings  1_star_ratings  ratings_count  avg_rating  \n",
       "0             190              58           3996         3.9  \n",
       "1              77              29            937         3.7  \n",
       "2             444              53          11250         4.0  \n",
       "3           14001            2926         136288         3.6  \n",
       "4           19933            9099         545418         4.2  "
      ]
     },
     "execution_count": 11,
     "metadata": {},
     "output_type": "execute_result"
    }
   ],
   "source": [
    "works.head()"
   ]
  },
  {
   "cell_type": "markdown",
   "id": "446cd557",
   "metadata": {},
   "source": [
    "### merge the two dataframes and then explode genres"
   ]
  },
  {
   "cell_type": "code",
   "execution_count": 12,
   "id": "a7ecdb2e",
   "metadata": {},
   "outputs": [],
   "source": [
    "# merge the two dataframes\n",
    "reviews_works = reviews.merge(works, on='work_id', how='left')"
   ]
  },
  {
   "cell_type": "code",
   "execution_count": 13,
   "id": "be1c762b",
   "metadata": {},
   "outputs": [
    {
     "data": {
      "application/vnd.microsoft.datawrangler.viewer.v0+json": {
       "columns": [
        {
         "name": "index",
         "rawType": "int64",
         "type": "integer"
        },
        {
         "name": "review_id",
         "rawType": "object",
         "type": "string"
        },
        {
         "name": "user_id",
         "rawType": "object",
         "type": "string"
        },
        {
         "name": "work_id",
         "rawType": "int64",
         "type": "integer"
        },
        {
         "name": "date_added",
         "rawType": "datetime64[ns]",
         "type": "datetime"
        },
        {
         "name": "rating",
         "rawType": "float64",
         "type": "float"
        },
        {
         "name": "n_votes",
         "rawType": "int64",
         "type": "integer"
        },
        {
         "name": "n_comments",
         "rawType": "int64",
         "type": "integer"
        },
        {
         "name": "isbn",
         "rawType": "object",
         "type": "string"
        },
        {
         "name": "original_title",
         "rawType": "object",
         "type": "string"
        },
        {
         "name": "author",
         "rawType": "object",
         "type": "string"
        },
        {
         "name": "original_publication_year",
         "rawType": "float64",
         "type": "float"
        },
        {
         "name": "num_pages",
         "rawType": "float64",
         "type": "float"
        },
        {
         "name": "genres",
         "rawType": "object",
         "type": "string"
        },
        {
         "name": "reviews_count",
         "rawType": "int64",
         "type": "integer"
        },
        {
         "name": "text_reviews_count",
         "rawType": "int64",
         "type": "integer"
        },
        {
         "name": "5_star_ratings",
         "rawType": "int64",
         "type": "integer"
        },
        {
         "name": "4_star_ratings",
         "rawType": "int64",
         "type": "integer"
        },
        {
         "name": "3_star_ratings",
         "rawType": "int64",
         "type": "integer"
        },
        {
         "name": "2_star_ratings",
         "rawType": "int64",
         "type": "integer"
        },
        {
         "name": "1_star_ratings",
         "rawType": "int64",
         "type": "integer"
        },
        {
         "name": "ratings_count",
         "rawType": "int64",
         "type": "integer"
        },
        {
         "name": "avg_rating",
         "rawType": "float64",
         "type": "float"
        }
       ],
       "ref": "c0aff457-c194-4b78-90d0-ae4de121f733",
       "rows": [
        [
         "0",
         "fa7a00c01296e3b2b2e857d79c51ea77",
         "3693bb4f1062b659a354848cf11ca313",
         "6128277",
         "2013-12-21 00:00:00",
         "5.0",
         "0",
         "0",
         "0803734611",
         "Fire",
         "Kristin Cashore",
         "2009.0",
         "480.0",
         "fantasy, paranormal, young-adult, romance, fiction",
         "226284",
         "9277",
         "58448",
         "45909",
         "23118",
         "6135",
         "2424",
         "136034",
         "4.1"
        ],
        [
         "1",
         "de0f7c8d15e247443e51969becf2878e",
         "3693bb4f1062b659a354848cf11ca313",
         "3270810",
         "2013-12-21 00:00:00",
         "5.0",
         "0",
         "0",
         "015206396X",
         "Graceling",
         "Kristin Cashore",
         "2008.0",
         "471.0",
         "fantasy, paranormal, young-adult, romance, fiction, mystery, thriller, crime",
         "561638",
         "19384",
         "130120",
         "102274",
         "50154",
         "14326",
         "6972",
         "303846",
         "4.1"
        ],
        [
         "2",
         "e79b49504ef58b2defcdc8b79e2ec3fb",
         "3693bb4f1062b659a354848cf11ca313",
         "4768235",
         "2013-12-19 00:00:00",
         "5.0",
         "0",
         "0",
         "0425225771",
         "Would-Be Witch (Southern Witch, Book 1)",
         "Kimberly Frost",
         "2009.0",
         "294.0",
         "fantasy, paranormal, romance, fiction, mystery, thriller, crime",
         "10310",
         "396",
         "1145",
         "1430",
         "1024",
         "326",
         "130",
         "4055",
         "3.8"
        ],
        [
         "3",
         "495c1210a9dbd819cbf7717dfb8b217f",
         "3693bb4f1062b659a354848cf11ca313",
         "6264661",
         "2013-12-16 00:00:00",
         "5.0",
         "0",
         "0",
         "1416963960",
         "White Cat",
         "Holly Black",
         "2010.0",
         "310.0",
         "fantasy, paranormal, young-adult, mystery, thriller, crime, fiction, romance",
         "94682",
         "4042",
         "9113",
         "13019",
         "8170",
         "2274",
         "948",
         "33524",
         "3.8"
        ],
        [
         "4",
         "54fcd8963c9dd56485d2a4ad152699c2",
         "3693bb4f1062b659a354848cf11ca313",
         "3429537",
         "2013-12-16 00:00:00",
         "5.0",
         "0",
         "0",
         "0152063846",
         "Jessica's Guide to Dating on the Dark Side",
         "Beth Fantaskey",
         "2000.0",
         "351.0",
         "young-adult, romance, fantasy, paranormal, fiction",
         "66598",
         "2837",
         "12251",
         "11017",
         "8612",
         "2873",
         "1162",
         "35915",
         "3.8"
        ]
       ],
       "shape": {
        "columns": 22,
        "rows": 5
       }
      },
      "text/html": [
       "<div>\n",
       "<style scoped>\n",
       "    .dataframe tbody tr th:only-of-type {\n",
       "        vertical-align: middle;\n",
       "    }\n",
       "\n",
       "    .dataframe tbody tr th {\n",
       "        vertical-align: top;\n",
       "    }\n",
       "\n",
       "    .dataframe thead th {\n",
       "        text-align: right;\n",
       "    }\n",
       "</style>\n",
       "<table border=\"1\" class=\"dataframe\">\n",
       "  <thead>\n",
       "    <tr style=\"text-align: right;\">\n",
       "      <th></th>\n",
       "      <th>review_id</th>\n",
       "      <th>user_id</th>\n",
       "      <th>work_id</th>\n",
       "      <th>date_added</th>\n",
       "      <th>rating</th>\n",
       "      <th>n_votes</th>\n",
       "      <th>n_comments</th>\n",
       "      <th>isbn</th>\n",
       "      <th>original_title</th>\n",
       "      <th>author</th>\n",
       "      <th>...</th>\n",
       "      <th>genres</th>\n",
       "      <th>reviews_count</th>\n",
       "      <th>text_reviews_count</th>\n",
       "      <th>5_star_ratings</th>\n",
       "      <th>4_star_ratings</th>\n",
       "      <th>3_star_ratings</th>\n",
       "      <th>2_star_ratings</th>\n",
       "      <th>1_star_ratings</th>\n",
       "      <th>ratings_count</th>\n",
       "      <th>avg_rating</th>\n",
       "    </tr>\n",
       "  </thead>\n",
       "  <tbody>\n",
       "    <tr>\n",
       "      <th>0</th>\n",
       "      <td>fa7a00c01296e3b2b2e857d79c51ea77</td>\n",
       "      <td>3693bb4f1062b659a354848cf11ca313</td>\n",
       "      <td>6128277</td>\n",
       "      <td>2013-12-21</td>\n",
       "      <td>5.0</td>\n",
       "      <td>0</td>\n",
       "      <td>0</td>\n",
       "      <td>0803734611</td>\n",
       "      <td>Fire</td>\n",
       "      <td>Kristin Cashore</td>\n",
       "      <td>...</td>\n",
       "      <td>fantasy, paranormal, young-adult, romance, fic...</td>\n",
       "      <td>226284</td>\n",
       "      <td>9277</td>\n",
       "      <td>58448</td>\n",
       "      <td>45909</td>\n",
       "      <td>23118</td>\n",
       "      <td>6135</td>\n",
       "      <td>2424</td>\n",
       "      <td>136034</td>\n",
       "      <td>4.1</td>\n",
       "    </tr>\n",
       "    <tr>\n",
       "      <th>1</th>\n",
       "      <td>de0f7c8d15e247443e51969becf2878e</td>\n",
       "      <td>3693bb4f1062b659a354848cf11ca313</td>\n",
       "      <td>3270810</td>\n",
       "      <td>2013-12-21</td>\n",
       "      <td>5.0</td>\n",
       "      <td>0</td>\n",
       "      <td>0</td>\n",
       "      <td>015206396X</td>\n",
       "      <td>Graceling</td>\n",
       "      <td>Kristin Cashore</td>\n",
       "      <td>...</td>\n",
       "      <td>fantasy, paranormal, young-adult, romance, fic...</td>\n",
       "      <td>561638</td>\n",
       "      <td>19384</td>\n",
       "      <td>130120</td>\n",
       "      <td>102274</td>\n",
       "      <td>50154</td>\n",
       "      <td>14326</td>\n",
       "      <td>6972</td>\n",
       "      <td>303846</td>\n",
       "      <td>4.1</td>\n",
       "    </tr>\n",
       "    <tr>\n",
       "      <th>2</th>\n",
       "      <td>e79b49504ef58b2defcdc8b79e2ec3fb</td>\n",
       "      <td>3693bb4f1062b659a354848cf11ca313</td>\n",
       "      <td>4768235</td>\n",
       "      <td>2013-12-19</td>\n",
       "      <td>5.0</td>\n",
       "      <td>0</td>\n",
       "      <td>0</td>\n",
       "      <td>0425225771</td>\n",
       "      <td>Would-Be Witch (Southern Witch, Book 1)</td>\n",
       "      <td>Kimberly Frost</td>\n",
       "      <td>...</td>\n",
       "      <td>fantasy, paranormal, romance, fiction, mystery...</td>\n",
       "      <td>10310</td>\n",
       "      <td>396</td>\n",
       "      <td>1145</td>\n",
       "      <td>1430</td>\n",
       "      <td>1024</td>\n",
       "      <td>326</td>\n",
       "      <td>130</td>\n",
       "      <td>4055</td>\n",
       "      <td>3.8</td>\n",
       "    </tr>\n",
       "    <tr>\n",
       "      <th>3</th>\n",
       "      <td>495c1210a9dbd819cbf7717dfb8b217f</td>\n",
       "      <td>3693bb4f1062b659a354848cf11ca313</td>\n",
       "      <td>6264661</td>\n",
       "      <td>2013-12-16</td>\n",
       "      <td>5.0</td>\n",
       "      <td>0</td>\n",
       "      <td>0</td>\n",
       "      <td>1416963960</td>\n",
       "      <td>White Cat</td>\n",
       "      <td>Holly Black</td>\n",
       "      <td>...</td>\n",
       "      <td>fantasy, paranormal, young-adult, mystery, thr...</td>\n",
       "      <td>94682</td>\n",
       "      <td>4042</td>\n",
       "      <td>9113</td>\n",
       "      <td>13019</td>\n",
       "      <td>8170</td>\n",
       "      <td>2274</td>\n",
       "      <td>948</td>\n",
       "      <td>33524</td>\n",
       "      <td>3.8</td>\n",
       "    </tr>\n",
       "    <tr>\n",
       "      <th>4</th>\n",
       "      <td>54fcd8963c9dd56485d2a4ad152699c2</td>\n",
       "      <td>3693bb4f1062b659a354848cf11ca313</td>\n",
       "      <td>3429537</td>\n",
       "      <td>2013-12-16</td>\n",
       "      <td>5.0</td>\n",
       "      <td>0</td>\n",
       "      <td>0</td>\n",
       "      <td>0152063846</td>\n",
       "      <td>Jessica's Guide to Dating on the Dark Side</td>\n",
       "      <td>Beth Fantaskey</td>\n",
       "      <td>...</td>\n",
       "      <td>young-adult, romance, fantasy, paranormal, fic...</td>\n",
       "      <td>66598</td>\n",
       "      <td>2837</td>\n",
       "      <td>12251</td>\n",
       "      <td>11017</td>\n",
       "      <td>8612</td>\n",
       "      <td>2873</td>\n",
       "      <td>1162</td>\n",
       "      <td>35915</td>\n",
       "      <td>3.8</td>\n",
       "    </tr>\n",
       "  </tbody>\n",
       "</table>\n",
       "<p>5 rows × 22 columns</p>\n",
       "</div>"
      ],
      "text/plain": [
       "                          review_id                           user_id  \\\n",
       "0  fa7a00c01296e3b2b2e857d79c51ea77  3693bb4f1062b659a354848cf11ca313   \n",
       "1  de0f7c8d15e247443e51969becf2878e  3693bb4f1062b659a354848cf11ca313   \n",
       "2  e79b49504ef58b2defcdc8b79e2ec3fb  3693bb4f1062b659a354848cf11ca313   \n",
       "3  495c1210a9dbd819cbf7717dfb8b217f  3693bb4f1062b659a354848cf11ca313   \n",
       "4  54fcd8963c9dd56485d2a4ad152699c2  3693bb4f1062b659a354848cf11ca313   \n",
       "\n",
       "   work_id date_added  rating  n_votes  n_comments        isbn  \\\n",
       "0  6128277 2013-12-21     5.0        0           0  0803734611   \n",
       "1  3270810 2013-12-21     5.0        0           0  015206396X   \n",
       "2  4768235 2013-12-19     5.0        0           0  0425225771   \n",
       "3  6264661 2013-12-16     5.0        0           0  1416963960   \n",
       "4  3429537 2013-12-16     5.0        0           0  0152063846   \n",
       "\n",
       "                               original_title           author  ...  \\\n",
       "0                                        Fire  Kristin Cashore  ...   \n",
       "1                                   Graceling  Kristin Cashore  ...   \n",
       "2     Would-Be Witch (Southern Witch, Book 1)   Kimberly Frost  ...   \n",
       "3                                   White Cat      Holly Black  ...   \n",
       "4  Jessica's Guide to Dating on the Dark Side   Beth Fantaskey  ...   \n",
       "\n",
       "                                              genres  reviews_count  \\\n",
       "0  fantasy, paranormal, young-adult, romance, fic...         226284   \n",
       "1  fantasy, paranormal, young-adult, romance, fic...         561638   \n",
       "2  fantasy, paranormal, romance, fiction, mystery...          10310   \n",
       "3  fantasy, paranormal, young-adult, mystery, thr...          94682   \n",
       "4  young-adult, romance, fantasy, paranormal, fic...          66598   \n",
       "\n",
       "  text_reviews_count  5_star_ratings  4_star_ratings  3_star_ratings  \\\n",
       "0               9277           58448           45909           23118   \n",
       "1              19384          130120          102274           50154   \n",
       "2                396            1145            1430            1024   \n",
       "3               4042            9113           13019            8170   \n",
       "4               2837           12251           11017            8612   \n",
       "\n",
       "   2_star_ratings  1_star_ratings  ratings_count  avg_rating  \n",
       "0            6135            2424         136034         4.1  \n",
       "1           14326            6972         303846         4.1  \n",
       "2             326             130           4055         3.8  \n",
       "3            2274             948          33524         3.8  \n",
       "4            2873            1162          35915         3.8  \n",
       "\n",
       "[5 rows x 22 columns]"
      ]
     },
     "execution_count": 13,
     "metadata": {},
     "output_type": "execute_result"
    }
   ],
   "source": [
    "# this is the final dataframe with reviews and works data\n",
    "reviews_works.head()"
   ]
  },
  {
   "cell_type": "code",
   "execution_count": 14,
   "id": "e84238ff",
   "metadata": {},
   "outputs": [],
   "source": [
    "# explode genres to get one genre per row\n",
    "# first split the genres column by comma, then explode it to get one genre per row\n",
    "reviews_works['genres'] = reviews_works['genres'].str.split(',')\n",
    "reviews_works = reviews_works.explode('genres')\n",
    "reviews_works['genres'] = reviews_works['genres'].str.strip()\n"
   ]
  },
  {
   "cell_type": "code",
   "execution_count": 15,
   "id": "e5994d9c",
   "metadata": {},
   "outputs": [
    {
     "data": {
      "application/vnd.microsoft.datawrangler.viewer.v0+json": {
       "columns": [
        {
         "name": "index",
         "rawType": "int64",
         "type": "integer"
        },
        {
         "name": "review_id",
         "rawType": "object",
         "type": "string"
        },
        {
         "name": "user_id",
         "rawType": "object",
         "type": "string"
        },
        {
         "name": "work_id",
         "rawType": "int64",
         "type": "integer"
        },
        {
         "name": "date_added",
         "rawType": "datetime64[ns]",
         "type": "datetime"
        },
        {
         "name": "rating",
         "rawType": "float64",
         "type": "float"
        },
        {
         "name": "n_votes",
         "rawType": "int64",
         "type": "integer"
        },
        {
         "name": "n_comments",
         "rawType": "int64",
         "type": "integer"
        },
        {
         "name": "isbn",
         "rawType": "object",
         "type": "string"
        },
        {
         "name": "original_title",
         "rawType": "object",
         "type": "string"
        },
        {
         "name": "author",
         "rawType": "object",
         "type": "string"
        },
        {
         "name": "original_publication_year",
         "rawType": "float64",
         "type": "float"
        },
        {
         "name": "num_pages",
         "rawType": "float64",
         "type": "float"
        },
        {
         "name": "genres",
         "rawType": "object",
         "type": "string"
        },
        {
         "name": "reviews_count",
         "rawType": "int64",
         "type": "integer"
        },
        {
         "name": "text_reviews_count",
         "rawType": "int64",
         "type": "integer"
        },
        {
         "name": "5_star_ratings",
         "rawType": "int64",
         "type": "integer"
        },
        {
         "name": "4_star_ratings",
         "rawType": "int64",
         "type": "integer"
        },
        {
         "name": "3_star_ratings",
         "rawType": "int64",
         "type": "integer"
        },
        {
         "name": "2_star_ratings",
         "rawType": "int64",
         "type": "integer"
        },
        {
         "name": "1_star_ratings",
         "rawType": "int64",
         "type": "integer"
        },
        {
         "name": "ratings_count",
         "rawType": "int64",
         "type": "integer"
        },
        {
         "name": "avg_rating",
         "rawType": "float64",
         "type": "float"
        }
       ],
       "ref": "b4801844-09e1-4f73-b7d6-67ab910ad090",
       "rows": [
        [
         "0",
         "fa7a00c01296e3b2b2e857d79c51ea77",
         "3693bb4f1062b659a354848cf11ca313",
         "6128277",
         "2013-12-21 00:00:00",
         "5.0",
         "0",
         "0",
         "0803734611",
         "Fire",
         "Kristin Cashore",
         "2009.0",
         "480.0",
         "fantasy",
         "226284",
         "9277",
         "58448",
         "45909",
         "23118",
         "6135",
         "2424",
         "136034",
         "4.1"
        ],
        [
         "0",
         "fa7a00c01296e3b2b2e857d79c51ea77",
         "3693bb4f1062b659a354848cf11ca313",
         "6128277",
         "2013-12-21 00:00:00",
         "5.0",
         "0",
         "0",
         "0803734611",
         "Fire",
         "Kristin Cashore",
         "2009.0",
         "480.0",
         "paranormal",
         "226284",
         "9277",
         "58448",
         "45909",
         "23118",
         "6135",
         "2424",
         "136034",
         "4.1"
        ],
        [
         "0",
         "fa7a00c01296e3b2b2e857d79c51ea77",
         "3693bb4f1062b659a354848cf11ca313",
         "6128277",
         "2013-12-21 00:00:00",
         "5.0",
         "0",
         "0",
         "0803734611",
         "Fire",
         "Kristin Cashore",
         "2009.0",
         "480.0",
         "young-adult",
         "226284",
         "9277",
         "58448",
         "45909",
         "23118",
         "6135",
         "2424",
         "136034",
         "4.1"
        ],
        [
         "0",
         "fa7a00c01296e3b2b2e857d79c51ea77",
         "3693bb4f1062b659a354848cf11ca313",
         "6128277",
         "2013-12-21 00:00:00",
         "5.0",
         "0",
         "0",
         "0803734611",
         "Fire",
         "Kristin Cashore",
         "2009.0",
         "480.0",
         "romance",
         "226284",
         "9277",
         "58448",
         "45909",
         "23118",
         "6135",
         "2424",
         "136034",
         "4.1"
        ],
        [
         "0",
         "fa7a00c01296e3b2b2e857d79c51ea77",
         "3693bb4f1062b659a354848cf11ca313",
         "6128277",
         "2013-12-21 00:00:00",
         "5.0",
         "0",
         "0",
         "0803734611",
         "Fire",
         "Kristin Cashore",
         "2009.0",
         "480.0",
         "fiction",
         "226284",
         "9277",
         "58448",
         "45909",
         "23118",
         "6135",
         "2424",
         "136034",
         "4.1"
        ]
       ],
       "shape": {
        "columns": 22,
        "rows": 5
       }
      },
      "text/html": [
       "<div>\n",
       "<style scoped>\n",
       "    .dataframe tbody tr th:only-of-type {\n",
       "        vertical-align: middle;\n",
       "    }\n",
       "\n",
       "    .dataframe tbody tr th {\n",
       "        vertical-align: top;\n",
       "    }\n",
       "\n",
       "    .dataframe thead th {\n",
       "        text-align: right;\n",
       "    }\n",
       "</style>\n",
       "<table border=\"1\" class=\"dataframe\">\n",
       "  <thead>\n",
       "    <tr style=\"text-align: right;\">\n",
       "      <th></th>\n",
       "      <th>review_id</th>\n",
       "      <th>user_id</th>\n",
       "      <th>work_id</th>\n",
       "      <th>date_added</th>\n",
       "      <th>rating</th>\n",
       "      <th>n_votes</th>\n",
       "      <th>n_comments</th>\n",
       "      <th>isbn</th>\n",
       "      <th>original_title</th>\n",
       "      <th>author</th>\n",
       "      <th>...</th>\n",
       "      <th>genres</th>\n",
       "      <th>reviews_count</th>\n",
       "      <th>text_reviews_count</th>\n",
       "      <th>5_star_ratings</th>\n",
       "      <th>4_star_ratings</th>\n",
       "      <th>3_star_ratings</th>\n",
       "      <th>2_star_ratings</th>\n",
       "      <th>1_star_ratings</th>\n",
       "      <th>ratings_count</th>\n",
       "      <th>avg_rating</th>\n",
       "    </tr>\n",
       "  </thead>\n",
       "  <tbody>\n",
       "    <tr>\n",
       "      <th>0</th>\n",
       "      <td>fa7a00c01296e3b2b2e857d79c51ea77</td>\n",
       "      <td>3693bb4f1062b659a354848cf11ca313</td>\n",
       "      <td>6128277</td>\n",
       "      <td>2013-12-21</td>\n",
       "      <td>5.0</td>\n",
       "      <td>0</td>\n",
       "      <td>0</td>\n",
       "      <td>0803734611</td>\n",
       "      <td>Fire</td>\n",
       "      <td>Kristin Cashore</td>\n",
       "      <td>...</td>\n",
       "      <td>fantasy</td>\n",
       "      <td>226284</td>\n",
       "      <td>9277</td>\n",
       "      <td>58448</td>\n",
       "      <td>45909</td>\n",
       "      <td>23118</td>\n",
       "      <td>6135</td>\n",
       "      <td>2424</td>\n",
       "      <td>136034</td>\n",
       "      <td>4.1</td>\n",
       "    </tr>\n",
       "    <tr>\n",
       "      <th>0</th>\n",
       "      <td>fa7a00c01296e3b2b2e857d79c51ea77</td>\n",
       "      <td>3693bb4f1062b659a354848cf11ca313</td>\n",
       "      <td>6128277</td>\n",
       "      <td>2013-12-21</td>\n",
       "      <td>5.0</td>\n",
       "      <td>0</td>\n",
       "      <td>0</td>\n",
       "      <td>0803734611</td>\n",
       "      <td>Fire</td>\n",
       "      <td>Kristin Cashore</td>\n",
       "      <td>...</td>\n",
       "      <td>paranormal</td>\n",
       "      <td>226284</td>\n",
       "      <td>9277</td>\n",
       "      <td>58448</td>\n",
       "      <td>45909</td>\n",
       "      <td>23118</td>\n",
       "      <td>6135</td>\n",
       "      <td>2424</td>\n",
       "      <td>136034</td>\n",
       "      <td>4.1</td>\n",
       "    </tr>\n",
       "    <tr>\n",
       "      <th>0</th>\n",
       "      <td>fa7a00c01296e3b2b2e857d79c51ea77</td>\n",
       "      <td>3693bb4f1062b659a354848cf11ca313</td>\n",
       "      <td>6128277</td>\n",
       "      <td>2013-12-21</td>\n",
       "      <td>5.0</td>\n",
       "      <td>0</td>\n",
       "      <td>0</td>\n",
       "      <td>0803734611</td>\n",
       "      <td>Fire</td>\n",
       "      <td>Kristin Cashore</td>\n",
       "      <td>...</td>\n",
       "      <td>young-adult</td>\n",
       "      <td>226284</td>\n",
       "      <td>9277</td>\n",
       "      <td>58448</td>\n",
       "      <td>45909</td>\n",
       "      <td>23118</td>\n",
       "      <td>6135</td>\n",
       "      <td>2424</td>\n",
       "      <td>136034</td>\n",
       "      <td>4.1</td>\n",
       "    </tr>\n",
       "    <tr>\n",
       "      <th>0</th>\n",
       "      <td>fa7a00c01296e3b2b2e857d79c51ea77</td>\n",
       "      <td>3693bb4f1062b659a354848cf11ca313</td>\n",
       "      <td>6128277</td>\n",
       "      <td>2013-12-21</td>\n",
       "      <td>5.0</td>\n",
       "      <td>0</td>\n",
       "      <td>0</td>\n",
       "      <td>0803734611</td>\n",
       "      <td>Fire</td>\n",
       "      <td>Kristin Cashore</td>\n",
       "      <td>...</td>\n",
       "      <td>romance</td>\n",
       "      <td>226284</td>\n",
       "      <td>9277</td>\n",
       "      <td>58448</td>\n",
       "      <td>45909</td>\n",
       "      <td>23118</td>\n",
       "      <td>6135</td>\n",
       "      <td>2424</td>\n",
       "      <td>136034</td>\n",
       "      <td>4.1</td>\n",
       "    </tr>\n",
       "    <tr>\n",
       "      <th>0</th>\n",
       "      <td>fa7a00c01296e3b2b2e857d79c51ea77</td>\n",
       "      <td>3693bb4f1062b659a354848cf11ca313</td>\n",
       "      <td>6128277</td>\n",
       "      <td>2013-12-21</td>\n",
       "      <td>5.0</td>\n",
       "      <td>0</td>\n",
       "      <td>0</td>\n",
       "      <td>0803734611</td>\n",
       "      <td>Fire</td>\n",
       "      <td>Kristin Cashore</td>\n",
       "      <td>...</td>\n",
       "      <td>fiction</td>\n",
       "      <td>226284</td>\n",
       "      <td>9277</td>\n",
       "      <td>58448</td>\n",
       "      <td>45909</td>\n",
       "      <td>23118</td>\n",
       "      <td>6135</td>\n",
       "      <td>2424</td>\n",
       "      <td>136034</td>\n",
       "      <td>4.1</td>\n",
       "    </tr>\n",
       "  </tbody>\n",
       "</table>\n",
       "<p>5 rows × 22 columns</p>\n",
       "</div>"
      ],
      "text/plain": [
       "                          review_id                           user_id  \\\n",
       "0  fa7a00c01296e3b2b2e857d79c51ea77  3693bb4f1062b659a354848cf11ca313   \n",
       "0  fa7a00c01296e3b2b2e857d79c51ea77  3693bb4f1062b659a354848cf11ca313   \n",
       "0  fa7a00c01296e3b2b2e857d79c51ea77  3693bb4f1062b659a354848cf11ca313   \n",
       "0  fa7a00c01296e3b2b2e857d79c51ea77  3693bb4f1062b659a354848cf11ca313   \n",
       "0  fa7a00c01296e3b2b2e857d79c51ea77  3693bb4f1062b659a354848cf11ca313   \n",
       "\n",
       "   work_id date_added  rating  n_votes  n_comments        isbn original_title  \\\n",
       "0  6128277 2013-12-21     5.0        0           0  0803734611           Fire   \n",
       "0  6128277 2013-12-21     5.0        0           0  0803734611           Fire   \n",
       "0  6128277 2013-12-21     5.0        0           0  0803734611           Fire   \n",
       "0  6128277 2013-12-21     5.0        0           0  0803734611           Fire   \n",
       "0  6128277 2013-12-21     5.0        0           0  0803734611           Fire   \n",
       "\n",
       "            author  ...       genres  reviews_count text_reviews_count  \\\n",
       "0  Kristin Cashore  ...      fantasy         226284               9277   \n",
       "0  Kristin Cashore  ...   paranormal         226284               9277   \n",
       "0  Kristin Cashore  ...  young-adult         226284               9277   \n",
       "0  Kristin Cashore  ...      romance         226284               9277   \n",
       "0  Kristin Cashore  ...      fiction         226284               9277   \n",
       "\n",
       "   5_star_ratings  4_star_ratings  3_star_ratings  2_star_ratings  \\\n",
       "0           58448           45909           23118            6135   \n",
       "0           58448           45909           23118            6135   \n",
       "0           58448           45909           23118            6135   \n",
       "0           58448           45909           23118            6135   \n",
       "0           58448           45909           23118            6135   \n",
       "\n",
       "   1_star_ratings  ratings_count  avg_rating  \n",
       "0            2424         136034         4.1  \n",
       "0            2424         136034         4.1  \n",
       "0            2424         136034         4.1  \n",
       "0            2424         136034         4.1  \n",
       "0            2424         136034         4.1  \n",
       "\n",
       "[5 rows x 22 columns]"
      ]
     },
     "execution_count": 15,
     "metadata": {},
     "output_type": "execute_result"
    }
   ],
   "source": [
    "# note that the previous operation results in duplicate values wrt books\n",
    "# these duplicates can be dropped if needed, but for now we will keep them\n",
    "# as they represent different genres for the same book\n",
    "reviews_works.head()\n"
   ]
  },
  {
   "cell_type": "code",
   "execution_count": 16,
   "id": "d2934dcf",
   "metadata": {},
   "outputs": [],
   "source": [
    "# change original_publication_year to int\n",
    "reviews_works['original_publication_year'] = reviews_works['original_publication_year'].astype('Int64')\n"
   ]
  },
  {
   "cell_type": "code",
   "execution_count": 17,
   "id": "2989e590",
   "metadata": {},
   "outputs": [],
   "source": [
    "# export reviews_works to csv\n",
    "# reviews_works_df = pd.DataFrame(reviews_works)\n",
    "# reviews_works_df.to_csv('C:\\\\Users\\\\conif\\\\Documents\\\\Projects\\\\Maven\\\\Goodreads-Project\\\\Goodreads+Book+Reviews\\\\reviews_works.csv', index=False)"
   ]
  },
  {
   "cell_type": "code",
   "execution_count": 18,
   "id": "e2bb93e7",
   "metadata": {},
   "outputs": [],
   "source": [
    "# export reviews_works top 20 sample to csv\n",
    "# reviews_works_df = pd.DataFrame(reviews_works)\n",
    "# reviews_works_df.head(20).to_csv('C:\\\\Users\\\\conif\\\\Documents\\\\Projects\\\\Maven\\\\Goodreads-Project\\\\Goodreads+Book+Reviews\\\\reviews_works_sample.csv', index=False)    "
   ]
  },
  {
   "cell_type": "markdown",
   "id": "a86bf429",
   "metadata": {},
   "source": [
    "## exploratory data analysis"
   ]
  },
  {
   "cell_type": "markdown",
   "id": "72499df9",
   "metadata": {},
   "source": [
    "### find the top titles by five star reviews"
   ]
  },
  {
   "cell_type": "code",
   "execution_count": 19,
   "id": "38e8c871",
   "metadata": {},
   "outputs": [],
   "source": [
    "# sort titles by number of five star reviews\n",
    "five_star_books = reviews_works[['original_title', '5_star_ratings']].sort_values(by='5_star_ratings', ascending=False)"
   ]
  },
  {
   "cell_type": "code",
   "execution_count": 20,
   "id": "47dcd2d9",
   "metadata": {},
   "outputs": [],
   "source": [
    "# get unique titles\n",
    "unique_5_star_titles = five_star_books[['original_title', '5_star_ratings']].drop_duplicates().reset_index(drop=True)"
   ]
  },
  {
   "cell_type": "code",
   "execution_count": 21,
   "id": "492800e9",
   "metadata": {},
   "outputs": [
    {
     "data": {
      "application/vnd.microsoft.datawrangler.viewer.v0+json": {
       "columns": [
        {
         "name": "index",
         "rawType": "int64",
         "type": "integer"
        },
        {
         "name": "original_title",
         "rawType": "object",
         "type": "string"
        },
        {
         "name": "5_star_ratings",
         "rawType": "int64",
         "type": "integer"
        }
       ],
       "ref": "0e0743a2-b9b7-4b2d-b40f-12f5b2f84112",
       "rows": [
        [
         "0",
         "Harry Potter and the Philosopher's Stone",
         "3131920"
        ],
        [
         "1",
         "The Hunger Games",
         "2768578"
        ],
        [
         "2",
         "To Kill a Mockingbird",
         "1748429"
        ],
        [
         "3",
         "Twilight",
         "1383583"
        ],
        [
         "4",
         "The Fault in Our Stars",
         "1351908"
        ],
        [
         "5",
         "Harry Potter and the Deathly Hallows",
         "1351479"
        ],
        [
         "6",
         "Harry Potter and the Prisoner of Azkaban",
         "1303937"
        ],
        [
         "7",
         "Harry Potter and the Goblet of Fire",
         "1227707"
        ],
        [
         "8",
         "Harry Potter and the Half-Blood Prince",
         "1190925"
        ],
        [
         "9",
         "Pride and Prejudice",
         "1183534"
        ],
        [
         "10",
         "Harry Potter and the Order of the Phoenix",
         "1149382"
        ],
        [
         "11",
         "Divergent",
         "1140618"
        ],
        [
         "12",
         "The Hobbit : or There and Back Again",
         "1137431"
        ],
        [
         "13",
         "Harry Potter and the Chamber of Secrets",
         "1097387"
        ],
        [
         "14",
         "The Fellowship of the Ring",
         "1072739"
        ],
        [
         "15",
         "Catching Fire",
         "992769"
        ],
        [
         "16",
         "The Great Gatsby",
         "980343"
        ],
        [
         "17",
         "The Help",
         "964666"
        ],
        [
         "18",
         "The Kite Runner",
         "953051"
        ],
        [
         "19",
         "Nineteen Eighty-Four",
         "946867"
        ],
        [
         "20",
         "Het Achterhuis: Dagboekbrieven 14 juni 1942 - 1 augustus 1944",
         "905192"
        ],
        [
         "21",
         "A Game of Thrones",
         "904941"
        ],
        [
         "22",
         "Man som hatar kvinnor",
         "862563"
        ],
        [
         "23",
         "The Lion, the Witch and the Wardrobe",
         "758045"
        ],
        [
         "24",
         "Mockingjay",
         "749202"
        ],
        [
         "25",
         "The Book Thief",
         "744398"
        ],
        [
         "26",
         "The Catcher in the Rye",
         "727691"
        ],
        [
         "27",
         "The Lightning Thief",
         "714888"
        ],
        [
         "28",
         "Angels & Demons",
         "700737"
        ],
        [
         "29",
         "Animal Farm: A Fairy Story",
         "672935"
        ],
        [
         "30",
         "Gone Girl",
         "628901"
        ],
        [
         "31",
         "City of Bones",
         "596883"
        ],
        [
         "32",
         "The Giver",
         "591767"
        ],
        [
         "33",
         "Jane Eyre",
         "580360"
        ],
        [
         "34",
         "Fifty Shades of Grey",
         "575362"
        ],
        [
         "35",
         "Memoirs of a Geisha",
         "570001"
        ],
        [
         "36",
         "Little Women",
         "545455"
        ],
        [
         "37",
         "O Alquimista",
         "525456"
        ],
        [
         "38",
         "The Hitchhiker's Guide to the Galaxy",
         "507755"
        ],
        [
         "39",
         "Charlotte's Web",
         "504760"
        ],
        [
         "40",
         "The Notebook",
         "503290"
        ],
        [
         "41",
         "Gone with the Wind (1 vol.)",
         "502926"
        ],
        [
         "42",
         "The Time Traveler's Wife",
         "502513"
        ],
        [
         "43",
         "An Excellent conceited Tragedie of Romeo and Juliet",
         "499208"
        ],
        [
         "44",
         "The Da Vinci code",
         "488276"
        ],
        [
         "45",
         "The Lovely Bones",
         "488151"
        ],
        [
         "46",
         "Le Petit Prince",
         "485808"
        ],
        [
         "47",
         "Of Mice and Men",
         "484916"
        ],
        [
         "48",
         "Ender's Game",
         "472448"
        ],
        [
         "49",
         "The Perks of Being a Wallflower",
         "470357"
        ]
       ],
       "shape": {
        "columns": 2,
        "rows": 13524
       }
      },
      "text/html": [
       "<div>\n",
       "<style scoped>\n",
       "    .dataframe tbody tr th:only-of-type {\n",
       "        vertical-align: middle;\n",
       "    }\n",
       "\n",
       "    .dataframe tbody tr th {\n",
       "        vertical-align: top;\n",
       "    }\n",
       "\n",
       "    .dataframe thead th {\n",
       "        text-align: right;\n",
       "    }\n",
       "</style>\n",
       "<table border=\"1\" class=\"dataframe\">\n",
       "  <thead>\n",
       "    <tr style=\"text-align: right;\">\n",
       "      <th></th>\n",
       "      <th>original_title</th>\n",
       "      <th>5_star_ratings</th>\n",
       "    </tr>\n",
       "  </thead>\n",
       "  <tbody>\n",
       "    <tr>\n",
       "      <th>0</th>\n",
       "      <td>Harry Potter and the Philosopher's Stone</td>\n",
       "      <td>3131920</td>\n",
       "    </tr>\n",
       "    <tr>\n",
       "      <th>1</th>\n",
       "      <td>The Hunger Games</td>\n",
       "      <td>2768578</td>\n",
       "    </tr>\n",
       "    <tr>\n",
       "      <th>2</th>\n",
       "      <td>To Kill a Mockingbird</td>\n",
       "      <td>1748429</td>\n",
       "    </tr>\n",
       "    <tr>\n",
       "      <th>3</th>\n",
       "      <td>Twilight</td>\n",
       "      <td>1383583</td>\n",
       "    </tr>\n",
       "    <tr>\n",
       "      <th>4</th>\n",
       "      <td>The Fault in Our Stars</td>\n",
       "      <td>1351908</td>\n",
       "    </tr>\n",
       "    <tr>\n",
       "      <th>...</th>\n",
       "      <td>...</td>\n",
       "      <td>...</td>\n",
       "    </tr>\n",
       "    <tr>\n",
       "      <th>13519</th>\n",
       "      <td>Therian</td>\n",
       "      <td>11</td>\n",
       "    </tr>\n",
       "    <tr>\n",
       "      <th>13520</th>\n",
       "      <td>Dragons of Tomorrow</td>\n",
       "      <td>11</td>\n",
       "    </tr>\n",
       "    <tr>\n",
       "      <th>13521</th>\n",
       "      <td>The Goodreads Killer: A Revenge Fantasy</td>\n",
       "      <td>10</td>\n",
       "    </tr>\n",
       "    <tr>\n",
       "      <th>13522</th>\n",
       "      <td>Peregrine Harker &amp; The Black Death</td>\n",
       "      <td>7</td>\n",
       "    </tr>\n",
       "    <tr>\n",
       "      <th>13523</th>\n",
       "      <td>Dark Warm Heart</td>\n",
       "      <td>5</td>\n",
       "    </tr>\n",
       "  </tbody>\n",
       "</table>\n",
       "<p>13524 rows × 2 columns</p>\n",
       "</div>"
      ],
      "text/plain": [
       "                                 original_title  5_star_ratings\n",
       "0      Harry Potter and the Philosopher's Stone         3131920\n",
       "1                              The Hunger Games         2768578\n",
       "2                         To Kill a Mockingbird         1748429\n",
       "3                                      Twilight         1383583\n",
       "4                        The Fault in Our Stars         1351908\n",
       "...                                         ...             ...\n",
       "13519                                   Therian              11\n",
       "13520                       Dragons of Tomorrow              11\n",
       "13521   The Goodreads Killer: A Revenge Fantasy              10\n",
       "13522        Peregrine Harker & The Black Death               7\n",
       "13523                           Dark Warm Heart               5\n",
       "\n",
       "[13524 rows x 2 columns]"
      ]
     },
     "execution_count": 21,
     "metadata": {},
     "output_type": "execute_result"
    }
   ],
   "source": [
    "unique_5_star_titles"
   ]
  },
  {
   "cell_type": "code",
   "execution_count": null,
   "id": "c5c2dddc",
   "metadata": {},
   "outputs": [],
   "source": []
  },
  {
   "cell_type": "code",
   "execution_count": 22,
   "id": "0a8ee1a8",
   "metadata": {},
   "outputs": [
    {
     "data": {
      "image/png": "[encoded data removed]",
      "text/plain": [
       "<Figure size 1200x600 with 1 Axes>"
      ]
     },
     "metadata": {},
     "output_type": "display_data"
    }
   ],
   "source": [
    "#plot bar chart of top 10 five star books\n",
    "top_10_five_star_books = unique_5_star_titles.head(10)\n",
    "plt.figure(figsize=(12, 6))\n",
    "sns.barplot(\n",
    "    x='5_star_ratings',\n",
    "    y='original_title',\n",
    "    data=top_10_five_star_books,\n",
    "    palette='viridis',\n",
    "    hue='original_title',\n",
    "    legend=False\n",
    ")\n",
    "plt.title('Top 10 Five Star Rated Books')\n",
    "plt.xlabel('Number of 5 Star Ratings')\n",
    "plt.ylabel('Book Title')\n",
    "plt.tight_layout()\n",
    "plt.show()"
   ]
  },
  {
   "cell_type": "markdown",
   "id": "1d61591a",
   "metadata": {},
   "source": [
    "### Books with highest average rating"
   ]
  },
  {
   "cell_type": "code",
   "execution_count": 23,
   "id": "708db53b",
   "metadata": {},
   "outputs": [
    {
     "data": {
      "application/vnd.microsoft.datawrangler.viewer.v0+json": {
       "columns": [
        {
         "name": "index",
         "rawType": "int64",
         "type": "integer"
        },
        {
         "name": "original_title",
         "rawType": "object",
         "type": "string"
        },
        {
         "name": "author",
         "rawType": "object",
         "type": "string"
        },
        {
         "name": "rating",
         "rawType": "float64",
         "type": "float"
        }
       ],
       "ref": "247415b6-4506-4415-8ff6-ce6e9ce95d61",
       "rows": [
        [
         "6367",
         "NARUTO -naruto- 72",
         "Masashi Kishimoto",
         "5.0"
        ],
        [
         "146",
         "A Dream of Spring",
         "George R.R. Martin",
         "5.0"
        ],
        [
         "13288",
         "Words of Radiance, Part 2",
         "Brandon Sanderson",
         "4.916666666666667"
        ],
        [
         "13353",
         "Ying Lan Gao Xiao hosutoBu  17",
         "Bisco Hatori",
         "4.846153846153846"
        ],
        [
         "7461",
         "Redemption",
         "Jaimie Roberts",
         "4.846153846153846"
        ],
        [
         "10070",
         "The Girl in the Tower",
         "Katherine Arden",
         "4.846153846153846"
        ],
        [
         "13349",
         "Ying Lan Gao Xiao hosutoBu  12",
         "Bisco Hatori",
         "4.846153846153846"
        ],
        [
         "5663",
         "Long Way Down",
         "Krista Ritchie",
         "4.839080459770115"
        ],
        [
         "7478",
         "Reign of the Fallen",
         "Sarah Glenn Marsh",
         "4.833333333333333"
        ],
        [
         "8395",
         "Something Like Autumn",
         "Jay Bell",
         "4.823529411764706"
        ]
       ],
       "shape": {
        "columns": 3,
        "rows": 10
       }
      },
      "text/html": [
       "<div>\n",
       "<style scoped>\n",
       "    .dataframe tbody tr th:only-of-type {\n",
       "        vertical-align: middle;\n",
       "    }\n",
       "\n",
       "    .dataframe tbody tr th {\n",
       "        vertical-align: top;\n",
       "    }\n",
       "\n",
       "    .dataframe thead th {\n",
       "        text-align: right;\n",
       "    }\n",
       "</style>\n",
       "<table border=\"1\" class=\"dataframe\">\n",
       "  <thead>\n",
       "    <tr style=\"text-align: right;\">\n",
       "      <th></th>\n",
       "      <th>original_title</th>\n",
       "      <th>author</th>\n",
       "      <th>rating</th>\n",
       "    </tr>\n",
       "  </thead>\n",
       "  <tbody>\n",
       "    <tr>\n",
       "      <th>6367</th>\n",
       "      <td>NARUTO -naruto- 72</td>\n",
       "      <td>Masashi Kishimoto</td>\n",
       "      <td>5.000000</td>\n",
       "    </tr>\n",
       "    <tr>\n",
       "      <th>146</th>\n",
       "      <td>A Dream of Spring</td>\n",
       "      <td>George R.R. Martin</td>\n",
       "      <td>5.000000</td>\n",
       "    </tr>\n",
       "    <tr>\n",
       "      <th>13288</th>\n",
       "      <td>Words of Radiance, Part 2</td>\n",
       "      <td>Brandon Sanderson</td>\n",
       "      <td>4.916667</td>\n",
       "    </tr>\n",
       "    <tr>\n",
       "      <th>13353</th>\n",
       "      <td>Ying Lan Gao Xiao hosutoBu  17</td>\n",
       "      <td>Bisco Hatori</td>\n",
       "      <td>4.846154</td>\n",
       "    </tr>\n",
       "    <tr>\n",
       "      <th>7461</th>\n",
       "      <td>Redemption</td>\n",
       "      <td>Jaimie Roberts</td>\n",
       "      <td>4.846154</td>\n",
       "    </tr>\n",
       "    <tr>\n",
       "      <th>10070</th>\n",
       "      <td>The Girl in the Tower</td>\n",
       "      <td>Katherine Arden</td>\n",
       "      <td>4.846154</td>\n",
       "    </tr>\n",
       "    <tr>\n",
       "      <th>13349</th>\n",
       "      <td>Ying Lan Gao Xiao hosutoBu  12</td>\n",
       "      <td>Bisco Hatori</td>\n",
       "      <td>4.846154</td>\n",
       "    </tr>\n",
       "    <tr>\n",
       "      <th>5663</th>\n",
       "      <td>Long Way Down</td>\n",
       "      <td>Krista Ritchie</td>\n",
       "      <td>4.839080</td>\n",
       "    </tr>\n",
       "    <tr>\n",
       "      <th>7478</th>\n",
       "      <td>Reign of the Fallen</td>\n",
       "      <td>Sarah Glenn Marsh</td>\n",
       "      <td>4.833333</td>\n",
       "    </tr>\n",
       "    <tr>\n",
       "      <th>8395</th>\n",
       "      <td>Something Like Autumn</td>\n",
       "      <td>Jay Bell</td>\n",
       "      <td>4.823529</td>\n",
       "    </tr>\n",
       "  </tbody>\n",
       "</table>\n",
       "</div>"
      ],
      "text/plain": [
       "                       original_title              author    rating\n",
       "6367               NARUTO -naruto- 72   Masashi Kishimoto  5.000000\n",
       "146                 A Dream of Spring  George R.R. Martin  5.000000\n",
       "13288       Words of Radiance, Part 2   Brandon Sanderson  4.916667\n",
       "13353  Ying Lan Gao Xiao hosutoBu  17        Bisco Hatori  4.846154\n",
       "7461                       Redemption      Jaimie Roberts  4.846154\n",
       "10070           The Girl in the Tower     Katherine Arden  4.846154\n",
       "13349  Ying Lan Gao Xiao hosutoBu  12        Bisco Hatori  4.846154\n",
       "5663                    Long Way Down      Krista Ritchie  4.839080\n",
       "7478              Reign of the Fallen   Sarah Glenn Marsh  4.833333\n",
       "8395            Something Like Autumn            Jay Bell  4.823529"
      ]
     },
     "execution_count": 23,
     "metadata": {},
     "output_type": "execute_result"
    }
   ],
   "source": [
    "# Which books stand out in terms of average rating (With author information)?\n",
    "average_ratings_calc = reviews_works.groupby(['original_title', 'author'])['rating'].mean().reset_index()\n",
    "average_ratings_calc = average_ratings_calc.sort_values(by='rating', ascending=False)\n",
    "top_10_average_ratings_calc = average_ratings_calc.head(10)\n",
    "top_10_average_ratings_calc\n"
   ]
  },
  {
   "cell_type": "code",
   "execution_count": 24,
   "id": "a7d292d7",
   "metadata": {},
   "outputs": [
    {
     "data": {
      "application/vnd.microsoft.datawrangler.viewer.v0+json": {
       "columns": [
        {
         "name": "index",
         "rawType": "int64",
         "type": "integer"
        },
        {
         "name": "original_title",
         "rawType": "object",
         "type": "string"
        },
        {
         "name": "author",
         "rawType": "object",
         "type": "string"
        },
        {
         "name": "avg_rating",
         "rawType": "float64",
         "type": "float"
        }
       ],
       "ref": "c53d8307-16ff-413a-b56a-bb038182fa22",
       "rows": [
        [
         "0",
         "Words of Radiance",
         "Brandon Sanderson",
         "4.8"
        ],
        [
         "1",
         "The Way of Kings, Part 2",
         "Brandon Sanderson",
         "4.8"
        ],
        [
         "2",
         "Words of Radiance, Part 2",
         "Brandon Sanderson",
         "4.8"
        ],
        [
         "3",
         "A Court of Mist and Fury",
         "Sarah J. Maas",
         "4.7"
        ],
        [
         "4",
         "Saga: Book One",
         "Brian K. Vaughan",
         "4.7"
        ],
        [
         "5",
         "Neverseen",
         "Shannon Messenger",
         "4.7"
        ],
        [
         "6",
         "The Long and Winding Road",
         "T.J. Klune",
         "4.7"
        ],
        [
         "7",
         "Oathbringer",
         "Brandon Sanderson",
         "4.7"
        ],
        [
         "8",
         "Crooked Kingdom",
         "Leigh Bardugo",
         "4.6"
        ],
        [
         "9",
         "The Name of the Wind",
         "Patrick Rothfuss",
         "4.6"
        ]
       ],
       "shape": {
        "columns": 3,
        "rows": 10
       }
      },
      "text/html": [
       "<div>\n",
       "<style scoped>\n",
       "    .dataframe tbody tr th:only-of-type {\n",
       "        vertical-align: middle;\n",
       "    }\n",
       "\n",
       "    .dataframe tbody tr th {\n",
       "        vertical-align: top;\n",
       "    }\n",
       "\n",
       "    .dataframe thead th {\n",
       "        text-align: right;\n",
       "    }\n",
       "</style>\n",
       "<table border=\"1\" class=\"dataframe\">\n",
       "  <thead>\n",
       "    <tr style=\"text-align: right;\">\n",
       "      <th></th>\n",
       "      <th>original_title</th>\n",
       "      <th>author</th>\n",
       "      <th>avg_rating</th>\n",
       "    </tr>\n",
       "  </thead>\n",
       "  <tbody>\n",
       "    <tr>\n",
       "      <th>0</th>\n",
       "      <td>Words of Radiance</td>\n",
       "      <td>Brandon Sanderson</td>\n",
       "      <td>4.8</td>\n",
       "    </tr>\n",
       "    <tr>\n",
       "      <th>1</th>\n",
       "      <td>The Way of Kings, Part 2</td>\n",
       "      <td>Brandon Sanderson</td>\n",
       "      <td>4.8</td>\n",
       "    </tr>\n",
       "    <tr>\n",
       "      <th>2</th>\n",
       "      <td>Words of Radiance, Part 2</td>\n",
       "      <td>Brandon Sanderson</td>\n",
       "      <td>4.8</td>\n",
       "    </tr>\n",
       "    <tr>\n",
       "      <th>3</th>\n",
       "      <td>A Court of Mist and Fury</td>\n",
       "      <td>Sarah J. Maas</td>\n",
       "      <td>4.7</td>\n",
       "    </tr>\n",
       "    <tr>\n",
       "      <th>4</th>\n",
       "      <td>Saga: Book One</td>\n",
       "      <td>Brian K. Vaughan</td>\n",
       "      <td>4.7</td>\n",
       "    </tr>\n",
       "    <tr>\n",
       "      <th>5</th>\n",
       "      <td>Neverseen</td>\n",
       "      <td>Shannon Messenger</td>\n",
       "      <td>4.7</td>\n",
       "    </tr>\n",
       "    <tr>\n",
       "      <th>6</th>\n",
       "      <td>The Long and Winding Road</td>\n",
       "      <td>T.J. Klune</td>\n",
       "      <td>4.7</td>\n",
       "    </tr>\n",
       "    <tr>\n",
       "      <th>7</th>\n",
       "      <td>Oathbringer</td>\n",
       "      <td>Brandon Sanderson</td>\n",
       "      <td>4.7</td>\n",
       "    </tr>\n",
       "    <tr>\n",
       "      <th>8</th>\n",
       "      <td>Crooked Kingdom</td>\n",
       "      <td>Leigh Bardugo</td>\n",
       "      <td>4.6</td>\n",
       "    </tr>\n",
       "    <tr>\n",
       "      <th>9</th>\n",
       "      <td>The Name of the Wind</td>\n",
       "      <td>Patrick Rothfuss</td>\n",
       "      <td>4.6</td>\n",
       "    </tr>\n",
       "  </tbody>\n",
       "</table>\n",
       "</div>"
      ],
      "text/plain": [
       "              original_title             author  avg_rating\n",
       "0          Words of Radiance  Brandon Sanderson         4.8\n",
       "1   The Way of Kings, Part 2  Brandon Sanderson         4.8\n",
       "2  Words of Radiance, Part 2  Brandon Sanderson         4.8\n",
       "3   A Court of Mist and Fury      Sarah J. Maas         4.7\n",
       "4             Saga: Book One   Brian K. Vaughan         4.7\n",
       "5                  Neverseen  Shannon Messenger         4.7\n",
       "6  The Long and Winding Road         T.J. Klune         4.7\n",
       "7                Oathbringer  Brandon Sanderson         4.7\n",
       "8            Crooked Kingdom      Leigh Bardugo         4.6\n",
       "9       The Name of the Wind   Patrick Rothfuss         4.6"
      ]
     },
     "execution_count": 24,
     "metadata": {},
     "output_type": "execute_result"
    }
   ],
   "source": [
    "# avg rating\n",
    "avg_rating_from_col = reviews_works[['original_title', 'author',  'avg_rating']].sort_values(by='avg_rating', ascending=False)\n",
    "avg_rating_from_col = avg_rating_from_col.drop_duplicates().reset_index(drop=True)\n",
    "avg_rating_from_col.sort_values(by='avg_rating', ascending=False)\n",
    "avg_rating_from_col.head(10)"
   ]
  },
  {
   "cell_type": "markdown",
   "id": "f141835a",
   "metadata": {},
   "source": [
    "### Authors with the most reviews"
   ]
  },
  {
   "cell_type": "code",
   "execution_count": 25,
   "id": "f797b102",
   "metadata": {},
   "outputs": [
    {
     "data": {
      "image/png": "[encoded data removed]",
      "text/plain": [
       "<Figure size 1200x600 with 1 Axes>"
      ]
     },
     "metadata": {},
     "output_type": "display_data"
    }
   ],
   "source": [
    "# authors with the most reviews\n",
    "unique_reviews = reviews_works.drop_duplicates(subset='review_id')\n",
    "top_authors = unique_reviews['author'].value_counts().head(10)\n",
    "plt.figure(figsize=(12, 6)) \n",
    "sns.barplot(\n",
    "    x=top_authors.values,\n",
    "    y=top_authors.index,\n",
    "    palette='viridis',\n",
    "    hue=top_authors.index,\n",
    "    legend=False\n",
    ")\n",
    "plt.title('Top 10 Authors with Most Reviews')\n",
    "plt.xlabel('Number of Reviews fot Books by Author')\n",
    "plt.ylabel('Author')\n",
    "plt.tight_layout()\n",
    "plt.show()\n"
   ]
  },
  {
   "cell_type": "code",
   "execution_count": 26,
   "id": "0f2a9aed",
   "metadata": {},
   "outputs": [
    {
     "data": {
      "application/vnd.microsoft.datawrangler.viewer.v0+json": {
       "columns": [
        {
         "name": "author",
         "rawType": "object",
         "type": "string"
        },
        {
         "name": "count",
         "rawType": "int64",
         "type": "integer"
        }
       ],
       "ref": "c9fe4643-6a49-44d4-99e2-4711de2eff26",
       "rows": [
        [
         "Sarah J. Maas",
         "13530"
        ],
        [
         "Cassandra Clare",
         "12756"
        ],
        [
         "J.K. Rowling",
         "9372"
        ],
        [
         "Richelle Mead",
         "9256"
        ],
        [
         "Rick Riordan",
         "9156"
        ],
        [
         "Veronica Roth",
         "8601"
        ],
        [
         "Maggie Stiefvater",
         "8101"
        ],
        [
         "Marissa Meyer",
         "7872"
        ],
        [
         "Rainbow Rowell",
         "7828"
        ],
        [
         "John Green",
         "7573"
        ]
       ],
       "shape": {
        "columns": 1,
        "rows": 10
       }
      },
      "text/plain": [
       "author\n",
       "Sarah J. Maas        13530\n",
       "Cassandra Clare      12756\n",
       "J.K. Rowling          9372\n",
       "Richelle Mead         9256\n",
       "Rick Riordan          9156\n",
       "Veronica Roth         8601\n",
       "Maggie Stiefvater     8101\n",
       "Marissa Meyer         7872\n",
       "Rainbow Rowell        7828\n",
       "John Green            7573\n",
       "Name: count, dtype: int64"
      ]
     },
     "execution_count": 26,
     "metadata": {},
     "output_type": "execute_result"
    }
   ],
   "source": [
    "top_authors\n"
   ]
  },
  {
   "cell_type": "markdown",
   "id": "602e9194",
   "metadata": {},
   "source": [
    "### most popular genres by number of reviews"
   ]
  },
  {
   "cell_type": "code",
   "execution_count": 27,
   "id": "d0390a4e",
   "metadata": {},
   "outputs": [
    {
     "data": {
      "image/png": "[encoded data removed]",
      "text/plain": [
       "<Figure size 1200x600 with 1 Axes>"
      ]
     },
     "metadata": {},
     "output_type": "display_data"
    }
   ],
   "source": [
    "# most popular genres by number of reviews\n",
    "# no need to drop duplicates here as genres are already exploded\n",
    "top_genres = reviews_works['genres'].value_counts().head(10)\n",
    "plt.figure(figsize=(12, 6))\n",
    "sns.barplot(\n",
    "    x=top_genres.values,\n",
    "    y=top_genres.index,\n",
    "    palette='viridis',\n",
    "    hue=top_genres.index,\n",
    "    legend=False\n",
    ")\n",
    "plt.title('Top 10 Genres by Number of Reviews')\n",
    "plt.xlabel('Number of Reviews')\n",
    "plt.ylabel('Genre')\n",
    "plt.tight_layout()\n",
    "plt.show()"
   ]
  },
  {
   "cell_type": "markdown",
   "id": "6587a649",
   "metadata": {},
   "source": [
    "### eda: list books by Sarah J. Maas along with their ratings, and genres"
   ]
  },
  {
   "cell_type": "code",
   "execution_count": 28,
   "id": "78042fe7",
   "metadata": {},
   "outputs": [
    {
     "data": {
      "application/vnd.microsoft.datawrangler.viewer.v0+json": {
       "columns": [
        {
         "name": "index",
         "rawType": "int64",
         "type": "integer"
        },
        {
         "name": "original_title",
         "rawType": "object",
         "type": "string"
        },
        {
         "name": "rating",
         "rawType": "float64",
         "type": "float"
        },
        {
         "name": "genres",
         "rawType": "object",
         "type": "string"
        }
       ],
       "ref": "a1a98139-a3c7-432f-94e8-49d352769542",
       "rows": [
        [
         "0",
         "The Assassin and the Empire",
         "5.0",
         "fantasy"
        ],
        [
         "1",
         "A Court of Wings and Ruin",
         "5.0",
         "fantasy"
        ],
        [
         "2",
         "The Assassin and the Underworld",
         "5.0",
         "fantasy"
        ],
        [
         "3",
         "The Assassin and the Desert",
         "5.0",
         "fantasy"
        ],
        [
         "4",
         "A Court of Mist and Fury",
         "5.0",
         "fantasy"
        ],
        [
         "5",
         "Tower of Dawn",
         "5.0",
         "fantasy"
        ],
        [
         "6",
         "A Court of Thorns and Roses",
         "5.0",
         "fantasy"
        ],
        [
         "7",
         "Crown of Midnight",
         "5.0",
         "fantasy"
        ],
        [
         "8",
         "Heir of Fire",
         "5.0",
         "fantasy"
        ],
        [
         "9",
         "Throne of Glass",
         "5.0",
         "young-adult"
        ],
        [
         "10",
         "Queen of Shadows",
         "5.0",
         "fantasy"
        ],
        [
         "11",
         "Empire of Storms",
         "5.0",
         "fantasy"
        ],
        [
         "12",
         "The Assassin's Blade",
         "5.0",
         "fantasy"
        ],
        [
         "13",
         "Throne of Glass",
         "4.0",
         "young-adult"
        ],
        [
         "14",
         "Heir of Fire",
         "4.0",
         "fantasy"
        ],
        [
         "15",
         "Empire of Storms",
         "4.0",
         "fantasy"
        ],
        [
         "16",
         "A Court of Thorns and Roses",
         "4.0",
         "fantasy"
        ],
        [
         "17",
         "Tower of Dawn",
         "4.0",
         "fantasy"
        ],
        [
         "18",
         "A Court of Wings and Ruin",
         "4.0",
         "fantasy"
        ],
        [
         "19",
         "The Assassin and the Underworld",
         "4.0",
         "fantasy"
        ],
        [
         "20",
         "The Assassin and the Pirate Lord",
         "4.0",
         "fantasy"
        ],
        [
         "21",
         "A Court of Mist and Fury",
         "4.0",
         "fantasy"
        ],
        [
         "22",
         "The Assassin's Blade",
         "4.0",
         "fantasy"
        ],
        [
         "23",
         "The Assassin and the Empire",
         "4.0",
         "fantasy"
        ],
        [
         "24",
         "The Assassin and the Desert",
         "4.0",
         "fantasy"
        ],
        [
         "25",
         "Crown of Midnight",
         "4.0",
         "fantasy"
        ],
        [
         "26",
         "Queen of Shadows",
         "4.0",
         "fantasy"
        ],
        [
         "27",
         "The Assassin and the Pirate Lord",
         "3.0",
         "fantasy"
        ],
        [
         "28",
         "Throne of Glass",
         "3.0",
         "young-adult"
        ],
        [
         "29",
         "The Assassin and the Empire",
         "3.0",
         "fantasy"
        ],
        [
         "30",
         "Crown of Midnight",
         "3.0",
         "fantasy"
        ],
        [
         "31",
         "Queen of Shadows",
         "3.0",
         "fantasy"
        ],
        [
         "32",
         "A Court of Thorns and Roses",
         "3.0",
         "fantasy"
        ],
        [
         "33",
         "A Court of Wings and Ruin",
         "3.0",
         "fantasy"
        ],
        [
         "34",
         "The Assassin's Blade",
         "3.0",
         "fantasy"
        ],
        [
         "35",
         "Empire of Storms",
         "3.0",
         "fantasy"
        ],
        [
         "36",
         "Heir of Fire",
         "3.0",
         "fantasy"
        ],
        [
         "37",
         "The Assassin and the Underworld",
         "3.0",
         "fantasy"
        ],
        [
         "38",
         "A Court of Thorns and Roses",
         null,
         "fantasy"
        ],
        [
         "39",
         "Throne of Glass",
         null,
         "young-adult"
        ],
        [
         "40",
         "Heir of Fire",
         null,
         "fantasy"
        ],
        [
         "41",
         "Tower of Dawn",
         null,
         "fantasy"
        ],
        [
         "42",
         "Empire of Storms",
         null,
         "fantasy"
        ],
        [
         "43",
         "A Court of Mist and Fury",
         null,
         "fantasy"
        ],
        [
         "44",
         "A Court of Wings and Ruin",
         null,
         "fantasy"
        ],
        [
         "45",
         "Queen of Shadows",
         null,
         "fantasy"
        ],
        [
         "46",
         "Crown of Midnight",
         null,
         "fantasy"
        ],
        [
         "47",
         "The Assassin's Blade",
         null,
         "fantasy"
        ],
        [
         "48",
         "Throne of Glass",
         "2.0",
         "young-adult"
        ],
        [
         "49",
         "A Court of Thorns and Roses",
         "2.0",
         "fantasy"
        ]
       ],
       "shape": {
        "columns": 3,
        "rows": 84
       }
      },
      "text/html": [
       "<div>\n",
       "<style scoped>\n",
       "    .dataframe tbody tr th:only-of-type {\n",
       "        vertical-align: middle;\n",
       "    }\n",
       "\n",
       "    .dataframe tbody tr th {\n",
       "        vertical-align: top;\n",
       "    }\n",
       "\n",
       "    .dataframe thead th {\n",
       "        text-align: right;\n",
       "    }\n",
       "</style>\n",
       "<table border=\"1\" class=\"dataframe\">\n",
       "  <thead>\n",
       "    <tr style=\"text-align: right;\">\n",
       "      <th></th>\n",
       "      <th>original_title</th>\n",
       "      <th>rating</th>\n",
       "      <th>genres</th>\n",
       "    </tr>\n",
       "  </thead>\n",
       "  <tbody>\n",
       "    <tr>\n",
       "      <th>0</th>\n",
       "      <td>The Assassin and the Empire</td>\n",
       "      <td>5.0</td>\n",
       "      <td>fantasy</td>\n",
       "    </tr>\n",
       "    <tr>\n",
       "      <th>1</th>\n",
       "      <td>A Court of Wings and Ruin</td>\n",
       "      <td>5.0</td>\n",
       "      <td>fantasy</td>\n",
       "    </tr>\n",
       "    <tr>\n",
       "      <th>2</th>\n",
       "      <td>The Assassin and the Underworld</td>\n",
       "      <td>5.0</td>\n",
       "      <td>fantasy</td>\n",
       "    </tr>\n",
       "    <tr>\n",
       "      <th>3</th>\n",
       "      <td>The Assassin and the Desert</td>\n",
       "      <td>5.0</td>\n",
       "      <td>fantasy</td>\n",
       "    </tr>\n",
       "    <tr>\n",
       "      <th>4</th>\n",
       "      <td>A Court of Mist and Fury</td>\n",
       "      <td>5.0</td>\n",
       "      <td>fantasy</td>\n",
       "    </tr>\n",
       "    <tr>\n",
       "      <th>...</th>\n",
       "      <td>...</td>\n",
       "      <td>...</td>\n",
       "      <td>...</td>\n",
       "    </tr>\n",
       "    <tr>\n",
       "      <th>79</th>\n",
       "      <td>The Assassin and the Desert</td>\n",
       "      <td>NaN</td>\n",
       "      <td>fantasy</td>\n",
       "    </tr>\n",
       "    <tr>\n",
       "      <th>80</th>\n",
       "      <td>The Assassin's Blade</td>\n",
       "      <td>1.0</td>\n",
       "      <td>fantasy</td>\n",
       "    </tr>\n",
       "    <tr>\n",
       "      <th>81</th>\n",
       "      <td>The Assassin and the Empire</td>\n",
       "      <td>1.0</td>\n",
       "      <td>fantasy</td>\n",
       "    </tr>\n",
       "    <tr>\n",
       "      <th>82</th>\n",
       "      <td>The Assassin and the Pirate Lord</td>\n",
       "      <td>1.0</td>\n",
       "      <td>fantasy</td>\n",
       "    </tr>\n",
       "    <tr>\n",
       "      <th>83</th>\n",
       "      <td>The Assassin and the Underworld</td>\n",
       "      <td>NaN</td>\n",
       "      <td>fantasy</td>\n",
       "    </tr>\n",
       "  </tbody>\n",
       "</table>\n",
       "<p>84 rows × 3 columns</p>\n",
       "</div>"
      ],
      "text/plain": [
       "                      original_title  rating   genres\n",
       "0        The Assassin and the Empire     5.0  fantasy\n",
       "1          A Court of Wings and Ruin     5.0  fantasy\n",
       "2    The Assassin and the Underworld     5.0  fantasy\n",
       "3        The Assassin and the Desert     5.0  fantasy\n",
       "4           A Court of Mist and Fury     5.0  fantasy\n",
       "..                               ...     ...      ...\n",
       "79       The Assassin and the Desert     NaN  fantasy\n",
       "80              The Assassin's Blade     1.0  fantasy\n",
       "81       The Assassin and the Empire     1.0  fantasy\n",
       "82  The Assassin and the Pirate Lord     1.0  fantasy\n",
       "83   The Assassin and the Underworld     NaN  fantasy\n",
       "\n",
       "[84 rows x 3 columns]"
      ]
     },
     "execution_count": 28,
     "metadata": {},
     "output_type": "execute_result"
    }
   ],
   "source": [
    "# list books by Sarah J. Maas along with their ratings, and genres\n",
    "sarah_j_maas_books = reviews_works[reviews_works['author'] == 'Sarah J. Maas'][['original_title', 'rating', 'genres']]\n",
    "sarah_j_maas_books = sarah_j_maas_books.drop_duplicates(subset=['original_title', 'rating']).reset_index(drop=True)\n",
    "sarah_j_maas_books"
   ]
  },
  {
   "cell_type": "code",
   "execution_count": 29,
   "id": "c873ad11",
   "metadata": {},
   "outputs": [
    {
     "name": "stdout",
     "output_type": "stream",
     "text": [
      "14\n"
     ]
    }
   ],
   "source": [
    "# count the unique number of books by Sarah J. Maas\n",
    "s_maas_num = sarah_j_maas_books['original_title'].nunique()\n",
    "print(s_maas_num)"
   ]
  },
  {
   "cell_type": "markdown",
   "id": "e9ead4de",
   "metadata": {},
   "source": [
    "### EDA: number of reviews of JK Rowling over time"
   ]
  },
  {
   "cell_type": "code",
   "execution_count": null,
   "id": "71ed0ca4",
   "metadata": {},
   "outputs": [],
   "source": []
  },
  {
   "cell_type": "code",
   "execution_count": 30,
   "id": "07a4b0b2",
   "metadata": {},
   "outputs": [],
   "source": [
    "# calculate the number of reviews of JK Rowling over years from date\n",
    "jk_rowling_reviews = reviews_works[reviews_works['author'] == 'J.K. Rowling']\n",
    "# drop duplicates as this does not involve genre\n",
    "jk_rowling_reviews = jk_rowling_reviews.drop_duplicates(subset=['review_id'])\n",
    "jk_rowling_reviews['year'] = jk_rowling_reviews['date_added'].dt.year\n",
    "jk_rowling_reviews_by_year = jk_rowling_reviews.groupby('year').size()\n"
   ]
  },
  {
   "cell_type": "code",
   "execution_count": 31,
   "id": "974a225c",
   "metadata": {},
   "outputs": [
    {
     "data": {
      "image/png": "[encoded data removed]",
      "text/plain": [
       "<Figure size 1200x600 with 1 Axes>"
      ]
     },
     "metadata": {},
     "output_type": "display_data"
    }
   ],
   "source": [
    "# plot JK Rowling reviews over the years\n",
    "\n",
    "plt.figure(figsize=(12, 6))\n",
    "jk_rowling_reviews_by_year.plot(kind='bar')\n",
    "plt.title('Number of Reviews for J.K. Rowling Over the Years')\n",
    "plt.xlabel('Year')\n",
    "plt.ylabel('Number of Reviews')\n",
    "plt.xticks(rotation=45)\n",
    "plt.show()\n"
   ]
  },
  {
   "cell_type": "markdown",
   "id": "aae304a7",
   "metadata": {},
   "source": [
    "### What are the top 10 genres by book count?"
   ]
  },
  {
   "cell_type": "code",
   "execution_count": 32,
   "id": "10559b3f",
   "metadata": {},
   "outputs": [
    {
     "data": {
      "image/png": "[encoded data removed]",
      "text/plain": [
       "<Figure size 1200x600 with 1 Axes>"
      ]
     },
     "metadata": {},
     "output_type": "display_data"
    }
   ],
   "source": [
    "# What are the top 10 genres by book count?\n",
    "top_genres_by_book_count = reviews_works.groupby('genres')['original_title'].nunique().sort_values(ascending=False).head(10)\n",
    "plt.figure(figsize=(12, 6))\n",
    "sns.barplot(\n",
    "    x=top_genres_by_book_count.values,\n",
    "    y=top_genres_by_book_count.index,\n",
    "    palette='viridis',\n",
    "    hue=top_genres_by_book_count.index,\n",
    "    legend=False\n",
    ")\n",
    "plt.title('Top 10 Genres by Book Count')\n",
    "plt.xlabel('Number of Unique Books')\n",
    "plt.ylabel('Genre')\n",
    "plt.tight_layout()\n",
    "plt.show()"
   ]
  },
  {
   "cell_type": "markdown",
   "id": "ce69e41c",
   "metadata": {},
   "source": [
    "### Average rating per genre"
   ]
  },
  {
   "cell_type": "code",
   "execution_count": 33,
   "id": "cbcfb949",
   "metadata": {},
   "outputs": [
    {
     "data": {
      "application/vnd.microsoft.datawrangler.viewer.v0+json": {
       "columns": [
        {
         "name": "genres",
         "rawType": "object",
         "type": "string"
        },
        {
         "name": "rating",
         "rawType": "float64",
         "type": "float"
        }
       ],
       "ref": "7855d4c1-c5c7-4a30-bba0-6a0f94e32abe",
       "rows": [
        [
         "children",
         "3.940779931771291"
        ],
        [
         "comics",
         "3.8947253108396778"
        ],
        [
         "graphic",
         "3.8947253108396778"
        ],
        [
         "poetry",
         "3.8629391390400794"
        ],
        [
         "young-adult",
         "3.8289003283095364"
        ],
        [
         "romance",
         "3.824002635068699"
        ],
        [
         "paranormal",
         "3.815362829729687"
        ],
        [
         "fantasy",
         "3.815362829729687"
        ],
        [
         "fiction",
         "3.8139746519955655"
        ],
        [
         "mystery",
         "3.7979017365713386"
        ]
       ],
       "shape": {
        "columns": 1,
        "rows": 10
       }
      },
      "text/plain": [
       "genres\n",
       "children       3.940780\n",
       "comics         3.894725\n",
       "graphic        3.894725\n",
       "poetry         3.862939\n",
       "young-adult    3.828900\n",
       "romance        3.824003\n",
       "paranormal     3.815363\n",
       "fantasy        3.815363\n",
       "fiction        3.813975\n",
       "mystery        3.797902\n",
       "Name: rating, dtype: float64"
      ]
     },
     "execution_count": 33,
     "metadata": {},
     "output_type": "execute_result"
    }
   ],
   "source": [
    "# Average rating per genre\n",
    "# Which genres tend to get higher/lower ratings?\n",
    "avg_rating_per_genre = reviews_works.groupby('genres')['rating'].mean().sort_values(ascending=False).head(10)\n",
    "avg_rating_per_genre\n"
   ]
  },
  {
   "cell_type": "code",
   "execution_count": 36,
   "id": "28b39c7f",
   "metadata": {},
   "outputs": [
    {
     "data": {
      "application/vnd.microsoft.datawrangler.viewer.v0+json": {
       "columns": [
        {
         "name": "genres",
         "rawType": "object",
         "type": "string"
        },
        {
         "name": "review_id",
         "rawType": "int64",
         "type": "integer"
        }
       ],
       "ref": "4db2f499-22e7-4496-8045-33c868ec0f4d",
       "rows": [
        [
         "fiction",
         "1134676"
        ],
        [
         "romance",
         "845057"
        ],
        [
         "young-adult",
         "751674"
        ],
        [
         "fantasy",
         "722359"
        ],
        [
         "paranormal",
         "722359"
        ],
        [
         "mystery",
         "551573"
        ],
        [
         "crime",
         "551573"
        ],
        [
         "thriller",
         "551573"
        ],
        [
         "biography",
         "285383"
        ],
        [
         "history",
         "285383"
        ],
        [
         "historical fiction",
         "285383"
        ],
        [
         "children",
         "100674"
        ],
        [
         "graphic",
         "55899"
        ],
        [
         "comics",
         "55899"
        ],
        [
         "non-fiction",
         "40779"
        ],
        [
         "poetry",
         "12554"
        ]
       ],
       "shape": {
        "columns": 1,
        "rows": 16
       }
      },
      "text/plain": [
       "genres\n",
       "fiction               1134676\n",
       "romance                845057\n",
       "young-adult            751674\n",
       "fantasy                722359\n",
       "paranormal             722359\n",
       "mystery                551573\n",
       "crime                  551573\n",
       "thriller               551573\n",
       "biography              285383\n",
       "history                285383\n",
       "historical fiction     285383\n",
       "children               100674\n",
       "graphic                 55899\n",
       "comics                  55899\n",
       "non-fiction             40779\n",
       "poetry                  12554\n",
       "Name: review_id, dtype: int64"
      ]
     },
     "execution_count": 36,
     "metadata": {},
     "output_type": "execute_result"
    }
   ],
   "source": [
    "# what are the number of reviews by genre?\n",
    "reviews_by_genre = reviews_works.groupby('genres')['review_id'].count().sort_values(ascending=False)\n",
    "reviews_by_genre\n",
    " \n"
   ]
  },
  {
   "cell_type": "code",
   "execution_count": 38,
   "id": "1ca9ac87",
   "metadata": {},
   "outputs": [
    {
     "data": {
      "image/png": "[encoded data removed]",
      "text/plain": [
       "<Figure size 1200x600 with 1 Axes>"
      ]
     },
     "metadata": {},
     "output_type": "display_data"
    }
   ],
   "source": [
    "#plot bar chart of top 10 genres by number of reviews\n",
    "plt.figure(figsize=(12, 6))\n",
    "sns.barplot(\n",
    "    x=reviews_by_genre.values,\n",
    "    y=reviews_by_genre.index,\n",
    "    palette='viridis',\n",
    "    hue=reviews_by_genre.index,\n",
    "    legend=False\n",
    ")\n",
    "plt.title('Top 10 Genres by Number of Reviews')\n",
    "plt.xlabel('Number of Reviews')\n",
    "plt.ylabel('Genre')\n",
    "plt.tight_layout()\n",
    "plt.show()"
   ]
  },
  {
   "cell_type": "code",
   "execution_count": null,
   "id": "1b980b37",
   "metadata": {},
   "outputs": [],
   "source": []
  }
 ],
 "metadata": {
  "kernelspec": {
   "display_name": "goodreads-analysis (3.12.10)",
   "language": "python",
   "name": "python3"
  },
  "language_info": {
   "codemirror_mode": {
    "name": "ipython",
    "version": 3
   },
   "file_extension": ".py",
   "mimetype": "text/x-python",
   "name": "python",
   "nbconvert_exporter": "python",
   "pygments_lexer": "ipython3",
   "version": "3.12.10"
  }
 },
 "nbformat": 4,
 "nbformat_minor": 5
}
