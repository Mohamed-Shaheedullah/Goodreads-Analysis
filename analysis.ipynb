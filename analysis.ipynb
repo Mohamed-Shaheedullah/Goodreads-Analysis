{
 "cells": [
  {
   "cell_type": "markdown",
   "id": "7267d3bc",
   "metadata": {},
   "source": [
    "## Analysis of Goodreads Data up to 2025"
   ]
  },
  {
   "cell_type": "code",
   "execution_count": 8,
   "id": "26f0e019",
   "metadata": {},
   "outputs": [],
   "source": [
    "import pandas as pd\n",
    "import datetime\n",
    "import matplotlib.pyplot as plt\n",
    "import seaborn as sns\n"
   ]
  },
  {
   "cell_type": "code",
   "execution_count": 3,
   "id": "0d6e64cf",
   "metadata": {},
   "outputs": [],
   "source": [
    "my_cols = ['review_id',\t'user_id',\t'work_id',\t'started_at',\t'read_at',\t'date_added',\t'rating',\t'n_votes',\t'n_comments']\n"
   ]
  },
  {
   "cell_type": "code",
   "execution_count": 9,
   "id": "dabc5008",
   "metadata": {},
   "outputs": [],
   "source": [
    "reviews = pd.read_csv(r'C:\\Users\\conif\\Documents\\Projects\\Maven\\Goodreads-Project\\Goodreads+Book+Reviews\\Goodreads_Reviews.csv',\n",
    "                 usecols=my_cols, parse_dates=['started_at', 'read_at',\t'date_added'], low_memory=False)"
   ]
  },
  {
   "cell_type": "code",
   "execution_count": 10,
   "id": "e5b2f802",
   "metadata": {},
   "outputs": [
    {
     "data": {
      "application/vnd.microsoft.datawrangler.viewer.v0+json": {
       "columns": [
        {
         "name": "index",
         "rawType": "int64",
         "type": "integer"
        },
        {
         "name": "review_id",
         "rawType": "object",
         "type": "string"
        },
        {
         "name": "user_id",
         "rawType": "object",
         "type": "string"
        },
        {
         "name": "work_id",
         "rawType": "int64",
         "type": "integer"
        },
        {
         "name": "started_at",
         "rawType": "object",
         "type": "unknown"
        },
        {
         "name": "read_at",
         "rawType": "object",
         "type": "unknown"
        },
        {
         "name": "date_added",
         "rawType": "datetime64[ns]",
         "type": "datetime"
        },
        {
         "name": "rating",
         "rawType": "float64",
         "type": "float"
        },
        {
         "name": "n_votes",
         "rawType": "int64",
         "type": "integer"
        },
        {
         "name": "n_comments",
         "rawType": "int64",
         "type": "integer"
        }
       ],
       "ref": "3848c5a5-88e4-4c1f-88a0-e88c60199d53",
       "rows": [
        [
         "0",
         "fa7a00c01296e3b2b2e857d79c51ea77",
         "3693bb4f1062b659a354848cf11ca313",
         "6128277",
         null,
         null,
         "2013-12-21 00:00:00",
         "5.0",
         "0",
         "0"
        ],
        [
         "1",
         "de0f7c8d15e247443e51969becf2878e",
         "3693bb4f1062b659a354848cf11ca313",
         "3270810",
         null,
         null,
         "2013-12-21 00:00:00",
         "5.0",
         "0",
         "0"
        ],
        [
         "2",
         "e79b49504ef58b2defcdc8b79e2ec3fb",
         "3693bb4f1062b659a354848cf11ca313",
         "4768235",
         null,
         null,
         "2013-12-19 00:00:00",
         "5.0",
         "0",
         "0"
        ],
        [
         "3",
         "495c1210a9dbd819cbf7717dfb8b217f",
         "3693bb4f1062b659a354848cf11ca313",
         "6264661",
         null,
         null,
         "2013-12-16 00:00:00",
         "5.0",
         "0",
         "0"
        ],
        [
         "4",
         "54fcd8963c9dd56485d2a4ad152699c2",
         "3693bb4f1062b659a354848cf11ca313",
         "3429537",
         null,
         null,
         "2013-12-16 00:00:00",
         "5.0",
         "0",
         "0"
        ]
       ],
       "shape": {
        "columns": 9,
        "rows": 5
       }
      },
      "text/html": [
       "<div>\n",
       "<style scoped>\n",
       "    .dataframe tbody tr th:only-of-type {\n",
       "        vertical-align: middle;\n",
       "    }\n",
       "\n",
       "    .dataframe tbody tr th {\n",
       "        vertical-align: top;\n",
       "    }\n",
       "\n",
       "    .dataframe thead th {\n",
       "        text-align: right;\n",
       "    }\n",
       "</style>\n",
       "<table border=\"1\" class=\"dataframe\">\n",
       "  <thead>\n",
       "    <tr style=\"text-align: right;\">\n",
       "      <th></th>\n",
       "      <th>review_id</th>\n",
       "      <th>user_id</th>\n",
       "      <th>work_id</th>\n",
       "      <th>started_at</th>\n",
       "      <th>read_at</th>\n",
       "      <th>date_added</th>\n",
       "      <th>rating</th>\n",
       "      <th>n_votes</th>\n",
       "      <th>n_comments</th>\n",
       "    </tr>\n",
       "  </thead>\n",
       "  <tbody>\n",
       "    <tr>\n",
       "      <th>0</th>\n",
       "      <td>fa7a00c01296e3b2b2e857d79c51ea77</td>\n",
       "      <td>3693bb4f1062b659a354848cf11ca313</td>\n",
       "      <td>6128277</td>\n",
       "      <td>NaN</td>\n",
       "      <td>NaN</td>\n",
       "      <td>2013-12-21</td>\n",
       "      <td>5.0</td>\n",
       "      <td>0</td>\n",
       "      <td>0</td>\n",
       "    </tr>\n",
       "    <tr>\n",
       "      <th>1</th>\n",
       "      <td>de0f7c8d15e247443e51969becf2878e</td>\n",
       "      <td>3693bb4f1062b659a354848cf11ca313</td>\n",
       "      <td>3270810</td>\n",
       "      <td>NaN</td>\n",
       "      <td>NaN</td>\n",
       "      <td>2013-12-21</td>\n",
       "      <td>5.0</td>\n",
       "      <td>0</td>\n",
       "      <td>0</td>\n",
       "    </tr>\n",
       "    <tr>\n",
       "      <th>2</th>\n",
       "      <td>e79b49504ef58b2defcdc8b79e2ec3fb</td>\n",
       "      <td>3693bb4f1062b659a354848cf11ca313</td>\n",
       "      <td>4768235</td>\n",
       "      <td>NaN</td>\n",
       "      <td>NaN</td>\n",
       "      <td>2013-12-19</td>\n",
       "      <td>5.0</td>\n",
       "      <td>0</td>\n",
       "      <td>0</td>\n",
       "    </tr>\n",
       "    <tr>\n",
       "      <th>3</th>\n",
       "      <td>495c1210a9dbd819cbf7717dfb8b217f</td>\n",
       "      <td>3693bb4f1062b659a354848cf11ca313</td>\n",
       "      <td>6264661</td>\n",
       "      <td>NaN</td>\n",
       "      <td>NaN</td>\n",
       "      <td>2013-12-16</td>\n",
       "      <td>5.0</td>\n",
       "      <td>0</td>\n",
       "      <td>0</td>\n",
       "    </tr>\n",
       "    <tr>\n",
       "      <th>4</th>\n",
       "      <td>54fcd8963c9dd56485d2a4ad152699c2</td>\n",
       "      <td>3693bb4f1062b659a354848cf11ca313</td>\n",
       "      <td>3429537</td>\n",
       "      <td>NaN</td>\n",
       "      <td>NaN</td>\n",
       "      <td>2013-12-16</td>\n",
       "      <td>5.0</td>\n",
       "      <td>0</td>\n",
       "      <td>0</td>\n",
       "    </tr>\n",
       "  </tbody>\n",
       "</table>\n",
       "</div>"
      ],
      "text/plain": [
       "                          review_id                           user_id  \\\n",
       "0  fa7a00c01296e3b2b2e857d79c51ea77  3693bb4f1062b659a354848cf11ca313   \n",
       "1  de0f7c8d15e247443e51969becf2878e  3693bb4f1062b659a354848cf11ca313   \n",
       "2  e79b49504ef58b2defcdc8b79e2ec3fb  3693bb4f1062b659a354848cf11ca313   \n",
       "3  495c1210a9dbd819cbf7717dfb8b217f  3693bb4f1062b659a354848cf11ca313   \n",
       "4  54fcd8963c9dd56485d2a4ad152699c2  3693bb4f1062b659a354848cf11ca313   \n",
       "\n",
       "   work_id started_at read_at date_added  rating  n_votes  n_comments  \n",
       "0  6128277        NaN     NaN 2013-12-21     5.0        0           0  \n",
       "1  3270810        NaN     NaN 2013-12-21     5.0        0           0  \n",
       "2  4768235        NaN     NaN 2013-12-19     5.0        0           0  \n",
       "3  6264661        NaN     NaN 2013-12-16     5.0        0           0  \n",
       "4  3429537        NaN     NaN 2013-12-16     5.0        0           0  "
      ]
     },
     "execution_count": 10,
     "metadata": {},
     "output_type": "execute_result"
    }
   ],
   "source": [
    "reviews.head()"
   ]
  },
  {
   "cell_type": "code",
   "execution_count": 11,
   "id": "8c33d288",
   "metadata": {},
   "outputs": [
    {
     "name": "stdout",
     "output_type": "stream",
     "text": [
      "<class 'pandas.core.frame.DataFrame'>\n",
      "RangeIndex: 1143887 entries, 0 to 1143886\n",
      "Data columns (total 9 columns):\n",
      " #   Column      Non-Null Count    Dtype         \n",
      "---  ------      --------------    -----         \n",
      " 0   review_id   1143887 non-null  object        \n",
      " 1   user_id     1143887 non-null  object        \n",
      " 2   work_id     1143887 non-null  int64         \n",
      " 3   started_at  796392 non-null   object        \n",
      " 4   read_at     1031765 non-null  object        \n",
      " 5   date_added  1143887 non-null  datetime64[ns]\n",
      " 6   rating      1106569 non-null  float64       \n",
      " 7   n_votes     1143887 non-null  int64         \n",
      " 8   n_comments  1143887 non-null  int64         \n",
      "dtypes: datetime64[ns](1), float64(1), int64(3), object(4)\n",
      "memory usage: 78.5+ MB\n"
     ]
    }
   ],
   "source": [
    "reviews.info()"
   ]
  },
  {
   "cell_type": "code",
   "execution_count": null,
   "id": "9cf02ead",
   "metadata": {},
   "outputs": [],
   "source": [
    "reviews\n"
   ]
  },
  {
   "cell_type": "code",
   "execution_count": null,
   "id": "a50706ff",
   "metadata": {},
   "outputs": [],
   "source": []
  }
 ],
 "metadata": {
  "kernelspec": {
   "display_name": ".venv",
   "language": "python",
   "name": "python3"
  },
  "language_info": {
   "codemirror_mode": {
    "name": "ipython",
    "version": 3
   },
   "file_extension": ".py",
   "mimetype": "text/x-python",
   "name": "python",
   "nbconvert_exporter": "python",
   "pygments_lexer": "ipython3",
   "version": "3.12.10"
  }
 },
 "nbformat": 4,
 "nbformat_minor": 5
}
